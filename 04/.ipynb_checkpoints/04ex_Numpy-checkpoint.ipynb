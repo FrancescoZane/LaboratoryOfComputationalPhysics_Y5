{
 "cells": [
  {
   "cell_type": "markdown",
   "metadata": {},
   "source": [
    "### Numpy basics"
   ]
  },
  {
   "cell_type": "markdown",
   "metadata": {},
   "source": [
    "1\\. Find the row, column and overall means for the following matrix:\n",
    "\n",
    "```python\n",
    "m = np.arange(12).reshape((3,4))\n",
    "```"
   ]
  },
  {
   "cell_type": "code",
   "execution_count": 1,
   "metadata": {},
   "outputs": [
    {
     "name": "stdout",
     "output_type": "stream",
     "text": [
      "[[ 0  1  2  3]\n",
      " [ 4  5  6  7]\n",
      " [ 8  9 10 11]]\n",
      "General: (3, 4)\n",
      "Row: 3\n",
      "Column: 3\n"
     ]
    }
   ],
   "source": [
    "import numpy as np\n",
    "\n",
    "m = np.arange(12).reshape((3,4))\n",
    "print(m)\n",
    "print(\"General:\", m.shape)\n",
    "print(\"Row:\", m.shape[0])\n",
    "print(\"Column:\", m.shape[0])"
   ]
  },
  {
   "cell_type": "markdown",
   "metadata": {},
   "source": [
    "2\\. Find the outer product of the following two vecotrs\n",
    "\n",
    "```python\n",
    "u = np.array([1,3,5,7])\n",
    "v = np.array([2,4,6,8])\n",
    "```\n",
    "\n",
    "Do this in the following ways:\n",
    "\n",
    "   * Using the function outer in numpy\n",
    "   * Using a nested for loop or list comprehension\n",
    "   * Using numpy broadcasting operatoins\n"
   ]
  },
  {
   "cell_type": "code",
   "execution_count": 2,
   "metadata": {},
   "outputs": [
    {
     "name": "stdout",
     "output_type": "stream",
     "text": [
      "[[ 2  4  6  8]\n",
      " [ 6 12 18 24]\n",
      " [10 20 30 40]\n",
      " [14 28 42 56]] \n",
      "\n",
      "[[ 2  4  6  8]\n",
      " [ 6 12 18 24]\n",
      " [10 20 30 40]\n",
      " [14 28 42 56]] \n",
      "\n",
      "[[ 2  6 10 14]\n",
      " [ 4 12 20 28]\n",
      " [ 6 18 30 42]\n",
      " [ 8 24 40 56]]\n"
     ]
    }
   ],
   "source": [
    "u = np.array([1,3,5,7])\n",
    "v = np.array([2,4,6,8])\n",
    "\n",
    "outer_1 = np.outer(u, v)\n",
    "print(outer_1, \"\\n\")\n",
    "\n",
    "array = np.array([(i*j) for i in u for j in v])\n",
    "outer_2 = array.reshape(4,4)\n",
    "print(outer_2, \"\\n\")\n",
    "\n",
    "v_T = v.reshape(4,1)\n",
    "outer_3 = v_T * u\n",
    "print(outer_3)"
   ]
  },
  {
   "cell_type": "markdown",
   "metadata": {},
   "source": [
    "3\\. Create a 10 by 6 matrix of random uniform numbers. Set all rows with any entry less than 0.1 to be zero\n",
    "\n",
    "Hint: Use the following numpy functions - np.random.random, np.any as well as Boolean indexing and the axis argument."
   ]
  },
  {
   "cell_type": "code",
   "execution_count": 3,
   "metadata": {},
   "outputs": [
    {
     "name": "stdout",
     "output_type": "stream",
     "text": [
      "[[0.08423492 0.75889427 0.96754243 0.42933784 0.78310659 0.0440652 ]\n",
      " [0.38042525 0.31599656 0.55435766 0.66894271 0.82264361 0.4571582 ]\n",
      " [0.37609542 0.70308894 0.51789769 0.6916956  0.09416747 0.16601934]\n",
      " [0.8171409  0.26333023 0.24308636 0.32153225 0.3107683  0.77158804]\n",
      " [0.83754666 0.60790814 0.89638353 0.16289949 0.23315735 0.00279216]\n",
      " [0.72791434 0.08188548 0.00912443 0.90650171 0.447899   0.4764604 ]\n",
      " [0.62381094 0.29984503 0.98781004 0.89982004 0.83483861 0.28333894]\n",
      " [0.29359359 0.71791721 0.19627445 0.07938102 0.23249472 0.65362797]\n",
      " [0.90719057 0.55255642 0.89879799 0.57129814 0.56136332 0.55796278]\n",
      " [0.825876   0.66937328 0.17888448 0.91886719 0.37168882 0.34754642]]\n",
      "Ho modificato l'elemento ( 0,0 )\n",
      "Ho modificato l'elemento ( 0,5 )\n",
      "Ho modificato l'elemento ( 2,4 )\n",
      "Ho modificato l'elemento ( 4,5 )\n",
      "Ho modificato l'elemento ( 5,1 )\n",
      "Ho modificato l'elemento ( 5,2 )\n",
      "Ho modificato l'elemento ( 7,3 )\n",
      "[[0.         0.75889427 0.96754243 0.42933784 0.78310659 0.        ]\n",
      " [0.38042525 0.31599656 0.55435766 0.66894271 0.82264361 0.4571582 ]\n",
      " [0.37609542 0.70308894 0.51789769 0.6916956  0.         0.16601934]\n",
      " [0.8171409  0.26333023 0.24308636 0.32153225 0.3107683  0.77158804]\n",
      " [0.83754666 0.60790814 0.89638353 0.16289949 0.23315735 0.        ]\n",
      " [0.72791434 0.         0.         0.90650171 0.447899   0.4764604 ]\n",
      " [0.62381094 0.29984503 0.98781004 0.89982004 0.83483861 0.28333894]\n",
      " [0.29359359 0.71791721 0.19627445 0.         0.23249472 0.65362797]\n",
      " [0.90719057 0.55255642 0.89879799 0.57129814 0.56136332 0.55796278]\n",
      " [0.825876   0.66937328 0.17888448 0.91886719 0.37168882 0.34754642]]\n",
      "[[ True False]\n",
      " [ True False]]\n"
     ]
    },
    {
     "data": {
      "text/plain": [
       "array([ True,  True])"
      ]
     },
     "execution_count": 3,
     "metadata": {},
     "output_type": "execute_result"
    }
   ],
   "source": [
    "matrix = np.random.random((10,6))\n",
    "print(matrix)\n",
    "for r in range(matrix.shape[0]):\n",
    "    for c in range(matrix.shape[1]):\n",
    "        if matrix[r,c] <= 0.1:\n",
    "            matrix[r,c] = 0\n",
    "            print(\"Ho modificato l'elemento ( \" + str(r) + \",\" + str(c) + \" )\")\n",
    "            \n",
    "print(matrix)\n",
    "\n",
    "\n",
    "# numpy.any(a, axis=None, out=None, keepdims=<no value>, *, where=<no value>)\n",
    "\n",
    "my_boolean_array = np.array([[True, False], [True, False]])\n",
    "print(my_boolean_array)\n",
    "np.any(my_boolean_array, axis=1)"
   ]
  },
  {
   "cell_type": "markdown",
   "metadata": {},
   "source": [
    "4\\. Use np.linspace to create an array of 100 numbers between 0 and 2π (includsive).\n",
    "\n",
    "  * Extract every 10th element using slice notation\n",
    "  * Reverse the array using slice notation\n",
    "  * Extract elements where the absolute difference between the sine and cosine functions evaluated at that element is less than 0.1\n",
    "  * Make a plot showing the sin and cos functions and indicate where they are close"
   ]
  },
  {
   "cell_type": "code",
   "execution_count": 38,
   "metadata": {},
   "outputs": [
    {
     "name": "stdout",
     "output_type": "stream",
     "text": [
      "[0.         0.06346652 0.12693304 0.19039955 0.25386607 0.31733259\n",
      " 0.38079911 0.44426563 0.50773215 0.57119866 0.63466518 0.6981317\n",
      " 0.76159822 0.82506474 0.88853126 0.95199777 1.01546429 1.07893081\n",
      " 1.14239733 1.20586385 1.26933037 1.33279688 1.3962634  1.45972992\n",
      " 1.52319644 1.58666296 1.65012947 1.71359599 1.77706251 1.84052903\n",
      " 1.90399555 1.96746207 2.03092858 2.0943951  2.15786162 2.22132814\n",
      " 2.28479466 2.34826118 2.41172769 2.47519421 2.53866073 2.60212725\n",
      " 2.66559377 2.72906028 2.7925268  2.85599332 2.91945984 2.98292636\n",
      " 3.04639288 3.10985939 3.17332591 3.23679243 3.30025895 3.36372547\n",
      " 3.42719199 3.4906585  3.55412502 3.61759154 3.68105806 3.74452458\n",
      " 3.8079911  3.87145761 3.93492413 3.99839065 4.06185717 4.12532369\n",
      " 4.1887902  4.25225672 4.31572324 4.37918976 4.44265628 4.5061228\n",
      " 4.56958931 4.63305583 4.69652235 4.75998887 4.82345539 4.88692191\n",
      " 4.95038842 5.01385494 5.07732146 5.14078798 5.2042545  5.26772102\n",
      " 5.33118753 5.39465405 5.45812057 5.52158709 5.58505361 5.64852012\n",
      " 5.71198664 5.77545316 5.83891968 5.9023862  5.96585272 6.02931923\n",
      " 6.09278575 6.15625227 6.21971879 6.28318531] \n",
      "\n",
      "[0.57119866 1.20586385 1.84052903 2.47519421 3.10985939 3.74452458\n",
      " 4.37918976 5.01385494 5.64852012 6.28318531] \n",
      "\n",
      "[6.28318531 5.64852012 5.01385494 4.37918976 3.74452458 3.10985939\n",
      " 2.47519421 1.84052903 1.20586385 0.57119866] \n",
      "\n"
     ]
    }
   ],
   "source": [
    "import math\n",
    "matrix = np.linspace(0, 2*math.pi, num=100)\n",
    "print(matrix, \"\\n\")\n",
    "elementi = matrix[9::10]\n",
    "print(elementi, \"\\n\")\n",
    "ele_inverse = elementi[::-1]\n",
    "print(ele_inverse, \"\\n\")"
   ]
  },
  {
   "cell_type": "markdown",
   "metadata": {},
   "source": [
    "5\\. Create a matrix that shows the 10 by 10 multiplication table.\n",
    "\n",
    " * Find the trace of the matrix\n",
    " * Extract the anto-diagonal (this should be ```array([10, 18, 24, 28, 30, 30, 28, 24, 18, 10])```)\n",
    " * Extract the diagnoal offset by 1 upwards (this should be ```array([ 2,  6, 12, 20, 30, 42, 56, 72, 90])```)"
   ]
  },
  {
   "cell_type": "code",
   "execution_count": 25,
   "metadata": {},
   "outputs": [
    {
     "name": "stdout",
     "output_type": "stream",
     "text": [
      "[[  1   2   3   4   5   6   7   8   9  10]\n",
      " [  2   4   6   8  10  12  14  16  18  20]\n",
      " [  3   6   9  12  15  18  21  24  27  30]\n",
      " [  4   8  12  16  20  24  28  32  36  40]\n",
      " [  5  10  15  20  25  30  35  40  45  50]\n",
      " [  6  12  18  24  30  36  42  48  54  60]\n",
      " [  7  14  21  28  35  42  49  56  63  70]\n",
      " [  8  16  24  32  40  48  56  64  72  80]\n",
      " [  9  18  27  36  45  54  63  72  81  90]\n",
      " [ 10  20  30  40  50  60  70  80  90 100]] \n",
      "\n",
      "385 \n",
      "\n",
      "[10, 18, 24, 28, 30, 30, 28, 24, 18, 10] \n",
      "\n",
      "[2, 6, 12, 20, 30, 42, 56, 72, 90] \n",
      "\n"
     ]
    }
   ],
   "source": [
    "vettore = np.array([(i*j) for i in range(1,11) for j in range(1,11)])\n",
    "array = vettore.reshape(10,10)\n",
    "print(array, \"\\n\")\n",
    "trace = 0\n",
    "for i in range(array.shape[0]):\n",
    "    trace = trace + array[i,i]\n",
    "\n",
    "print(trace, \"\\n\")\n",
    "\n",
    "anti_dia = []\n",
    "for i in range(array.shape[0]):\n",
    "    anti_dia.append(array[i,-i-1])\n",
    "\n",
    "print(anti_dia, \"\\n\")\n",
    "\n",
    "dia_offset = []\n",
    "for i in range(array.shape[0]-1):\n",
    "    dia_offset.append(array[i+1,i])\n",
    "\n",
    "print(dia_offset, \"\\n\")\n",
    "\n",
    "\n",
    "# prova ad usere le funzioni diagonal"
   ]
  },
  {
   "cell_type": "markdown",
   "metadata": {},
   "source": [
    "6\\. Use broadcasting to create a grid of distances\n",
    "\n",
    "Route 66 crosses the following cities in the US: Chicago, Springfield, Saint-Louis, Tulsa, Oklahoma City, Amarillo, Santa Fe, Albuquerque, Flagstaff, Los Angeles\n",
    "The corresponding positions in miles are: 0, 198, 303, 736, 871, 1175, 1475, 1544, 1913, 2448\n",
    "\n",
    "  * Construct a 2D grid of distances among each city along Route 66\n",
    "  * Convert that in km (those savages...)"
   ]
  },
  {
   "cell_type": "code",
   "execution_count": 36,
   "metadata": {},
   "outputs": [
    {
     "name": "stdout",
     "output_type": "stream",
     "text": [
      "[['Chicago' 'Springfield' 'Saint-Louis' 'Tulsa, Oklahoma City' 'Amarillo'\n",
      "  'Santa Fe' 'Albuquerque' 'Flagstaff' 'Los Angeles']]\n",
      "[[   0  198  303  736  871 1175 1475 1544 1913 2448]] \n",
      "\n",
      "[[   0]\n",
      " [ 198]\n",
      " [ 303]\n",
      " [ 736]\n",
      " [ 871]\n",
      " [1175]\n",
      " [1475]\n",
      " [1544]\n",
      " [1913]\n",
      " [2448]] \n",
      "\n",
      "[[   0  198  303  736  871 1175 1475 1544 1913 2448]\n",
      " [ 198    0  105  538  673  977 1277 1346 1715 2250]\n",
      " [ 303  105    0  433  568  872 1172 1241 1610 2145]\n",
      " [ 736  538  433    0  135  439  739  808 1177 1712]\n",
      " [ 871  673  568  135    0  304  604  673 1042 1577]\n",
      " [1175  977  872  439  304    0  300  369  738 1273]\n",
      " [1475 1277 1172  739  604  300    0   69  438  973]\n",
      " [1544 1346 1241  808  673  369   69    0  369  904]\n",
      " [1913 1715 1610 1177 1042  738  438  369    0  535]\n",
      " [2448 2250 2145 1712 1577 1273  973  904  535    0]] \n",
      "\n",
      "[[   0.   316.8  484.8 1177.6 1393.6 1880.  2360.  2470.4 3060.8 3916.8]\n",
      " [ 316.8    0.   168.   860.8 1076.8 1563.2 2043.2 2153.6 2744.  3600. ]\n",
      " [ 484.8  168.     0.   692.8  908.8 1395.2 1875.2 1985.6 2576.  3432. ]\n",
      " [1177.6  860.8  692.8    0.   216.   702.4 1182.4 1292.8 1883.2 2739.2]\n",
      " [1393.6 1076.8  908.8  216.     0.   486.4  966.4 1076.8 1667.2 2523.2]\n",
      " [1880.  1563.2 1395.2  702.4  486.4    0.   480.   590.4 1180.8 2036.8]\n",
      " [2360.  2043.2 1875.2 1182.4  966.4  480.     0.   110.4  700.8 1556.8]\n",
      " [2470.4 2153.6 1985.6 1292.8 1076.8  590.4  110.4    0.   590.4 1446.4]\n",
      " [3060.8 2744.  2576.  1883.2 1667.2 1180.8  700.8  590.4    0.   856. ]\n",
      " [3916.8 3600.  3432.  2739.2 2523.2 2036.8 1556.8 1446.4  856.     0. ]] \n",
      "\n",
      "([array([['Chicago', 'Springfield', 'Saint-Louis', 'Tulsa, Oklahoma City',\n",
      "        'Amarillo', 'Santa Fe', 'Albuquerque', 'Flagstaff',\n",
      "        'Los Angeles']], dtype='<U20')], [array([[   0,  198,  303,  736,  871, 1175, 1475, 1544, 1913, 2448],\n",
      "       [ 198,    0,  105,  538,  673,  977, 1277, 1346, 1715, 2250],\n",
      "       [ 303,  105,    0,  433,  568,  872, 1172, 1241, 1610, 2145],\n",
      "       [ 736,  538,  433,    0,  135,  439,  739,  808, 1177, 1712],\n",
      "       [ 871,  673,  568,  135,    0,  304,  604,  673, 1042, 1577],\n",
      "       [1175,  977,  872,  439,  304,    0,  300,  369,  738, 1273],\n",
      "       [1475, 1277, 1172,  739,  604,  300,    0,   69,  438,  973],\n",
      "       [1544, 1346, 1241,  808,  673,  369,   69,    0,  369,  904],\n",
      "       [1913, 1715, 1610, 1177, 1042,  738,  438,  369,    0,  535],\n",
      "       [2448, 2250, 2145, 1712, 1577, 1273,  973,  904,  535,    0]])]) \n",
      "\n"
     ]
    }
   ],
   "source": [
    "print(citta)\n",
    "distanze = np.array([[0, 198, 303, 736, 871, 1175, 1475, 1544, 1913, 2448]])\n",
    "distanze_T = np.transpose(distanze)\n",
    "print(distanze, \"\\n\")\n",
    "print(distanze_T, \"\\n\")\n",
    "tabella = abs(distanze - distanze_T)\n",
    "print(tabella, \"\\n\")\n",
    "tabella_km = tabella * 1.6\n",
    "print(tabella_km, \"\\n\")\n",
    "\n",
    "tabella_citta = ([citta],[tabella]) \n",
    "print(tabella_citta, \"\\n\")"
   ]
  },
  {
   "cell_type": "markdown",
   "metadata": {},
   "source": [
    "7\\. Prime numbers sieve: compute the prime numbers in the 0-N (N=99 to start with) range with a sieve (mask).\n",
    "  * Constract a shape (100,) boolean array, the mask\n",
    "  * Identify the multiples of each number starting from 2 and set accordingly the corresponding mask element\n",
    "  * Apply the mask to obtain an array of ordered prime numbers\n",
    "  * Check the performances (timeit); how does it scale with N?\n",
    "  * Implement the optimization suggested in the [sieve of Eratosthenes](https://en.wikipedia.org/wiki/Sieve_of_Eratosthenes)"
   ]
  },
  {
   "cell_type": "markdown",
   "metadata": {},
   "source": [
    "**N.B. the following exercises are meant to be solved only if you are familiar with the numpy random library. If not you can skip them (postponed for one of the next exercise sessions)**\n"
   ]
  },
  {
   "cell_type": "markdown",
   "metadata": {},
   "source": [
    "8\\. Diffusion using random walk\n",
    "\n",
    "Consider a simple random walk process: at each step in time, a walker jumps right or left (+1 or -1) with equal probability. The goal is to find the typical distance from the origin of a random walker after a given amount of time. \n",
    "To do that, let's simulate many walkers and create a 2D array with each walker as a raw and the actual time evolution as columns\n",
    "\n",
    "  * Take 1000 walkers and let them walk for 200 steps\n",
    "  * Use randint to create a 2D array of size walkers x steps with values -1 or 1\n",
    "  * Build the actual walking distances for each walker (i.e. another 2D array \"summing on each raw\")\n",
    "  * Take the square of that 2D array (elementwise)\n",
    "  * Compute the mean of the squared distances at each step (i.e. the mean along the columns)\n",
    "  * Plot the average distances (sqrt(distance\\*\\*2)) as a function of time (step)\n",
    "  \n",
    "Did you get what you expected?"
   ]
  },
  {
   "cell_type": "markdown",
   "metadata": {},
   "source": [
    "9\\. Analyze a data file \n",
    "  * Download the population of hares, lynxes and carrots at the beginning of the last century.\n",
    "    ```python\n",
    "    ! wget https://www.dropbox.com/s/3vigxoqayo389uc/populations.txt\n",
    "    ```\n",
    "\n",
    "  * Check the content by looking within the file\n",
    "  * Load the data (use an appropriate numpy method) into a 2D array\n",
    "  * Create arrays out of the columns, the arrays being (in order): *year*, *hares*, *lynxes*, *carrots* \n",
    "  * Plot the 3 populations over the years\n",
    "  * Compute the main statistical properties of the dataset (mean, std, correlations, etc.)\n",
    "  * Which species has the highest population each year?\n",
    "\n",
    "Do you feel there is some evident correlation here? [Studies](https://www.enr.gov.nt.ca/en/services/lynx/lynx-snowshoe-hare-cycle) tend to believe so."
   ]
  }
 ],
 "metadata": {
  "kernelspec": {
   "display_name": "Python 3 (ipykernel)",
   "language": "python",
   "name": "python3"
  },
  "language_info": {
   "codemirror_mode": {
    "name": "ipython",
    "version": 3
   },
   "file_extension": ".py",
   "mimetype": "text/x-python",
   "name": "python",
   "nbconvert_exporter": "python",
   "pygments_lexer": "ipython3",
   "version": "3.9.12"
  }
 },
 "nbformat": 4,
 "nbformat_minor": 2
}
