{
 "cells": [
  {
   "cell_type": "markdown",
   "metadata": {},
   "source": [
    "1\\. Write a function that converts number representation, bin<->dec<->hex. (Clearly using the corresponding python built-in functions is not fair..)"
   ]
  },
  {
   "cell_type": "code",
   "execution_count": 1,
   "metadata": {},
   "outputs": [
    {
     "name": "stdout",
     "output_type": "stream",
     "text": [
      "[1, 0, 1]\n",
      "3\n",
      "['1', 'D']\n"
     ]
    }
   ],
   "source": [
    "def dec_to_bin(n):\n",
    "    binary=[]\n",
    "    while n>0:\n",
    "        if n%2==0:\n",
    "            binary.append(0)\n",
    "            n=n/2\n",
    "        else:\n",
    "            binary.append(1)\n",
    "            n=(n-1)/2        \n",
    "    binary.reverse()\n",
    "    return binary\n",
    "\n",
    "def bin_to_dec(n):\n",
    "    n=str(n)\n",
    "    dec=0\n",
    "    for x in range(len(n)):\n",
    "        dec = dec + int(n[x])*pow(2,len(n)-x-1)\n",
    "    return dec\n",
    "\n",
    "def dec_to_hex(n):\n",
    "    hexadecimal=[]\n",
    "    \n",
    "    while n>0:\n",
    "        m=n%16\n",
    "        conv=[\"0\",\"1\",\"2\",\"3\",\"4\",\"5\",\"6\",\"7\",\"8\",\"9\",\"A\",\"B\",\"C\",\"D\",\"E\",\"F\"]\n",
    "        m=int(m)\n",
    "        hexadecimal.append(conv[m])\n",
    "        n=(n-m)/16\n",
    "        \n",
    "    hexadecimal.reverse()\n",
    "    return hexadecimal    \n",
    "    \n",
    "def hex_to_dec(n):\n",
    "    n=str(n)\n",
    "    dec=0\n",
    "    for x in range(len(n)):\n",
    "        dec = dec + int(n[x])*pow(16,len(n)-x-1)\n",
    "    return dec\n",
    "    \n",
    "    \n",
    "    \n",
    "    \n",
    "    \n",
    "print(dec_to_bin(5))\n",
    "print(bin_to_dec(11))\n",
    "print(dec_to_hex(29))\n"
   ]
  },
  {
   "cell_type": "markdown",
   "metadata": {},
   "source": [
    "2\\. Write a function that converts a 32 bit word into a single precision floating point (i.e. interprets the various bits as sign, mantissa and exponent)"
   ]
  },
  {
   "cell_type": "code",
   "execution_count": 2,
   "metadata": {},
   "outputs": [
    {
     "name": "stdout",
     "output_type": "stream",
     "text": [
      "32\n",
      "Final number:  -5.5\n"
     ]
    }
   ],
   "source": [
    "number=\"11000000101100000000000000000000\"\n",
    "print(len(number))\n",
    "\n",
    "sign_bin = number[0]\n",
    "exp_bin = \"0b\"+number[1:9]\n",
    "mant_bin = number[9:]\n",
    "\n",
    "exp_dec = int(exp_bin,2)-127\n",
    "mantissa = 1\n",
    "for x in range(len(mant_bin)):\n",
    "    mantissa += int(mant_bin[x])*pow(2,-x-1)\n",
    "\n",
    "numero = mantissa*pow(2,exp_dec)\n",
    "if sign_bin==\"0\":\n",
    "    print(\"Final number: \", numero)\n",
    "elif sign_bin==\"1\":\n",
    "    print(\"Final number: \", -1*numero)\n",
    "else:\n",
    "    print(\"Errore\")"
   ]
  },
  {
   "cell_type": "markdown",
   "metadata": {},
   "source": [
    "3\\. Write a program to determine the underflow and overflow limits (within a factor of 2) for python on your computer. \n",
    "\n",
    "**Tips**: define two variables inizialized to 1 and halve/double them enough time to exceed the under/over-flow limits  "
   ]
  },
  {
   "cell_type": "code",
   "execution_count": 3,
   "metadata": {},
   "outputs": [
    {
     "name": "stdout",
     "output_type": "stream",
     "text": [
      "Underflow\n",
      "1.0000000001\n",
      "1.00000000001\n",
      "1.000000000001\n",
      "1.0000000000001\n",
      "1.00000000000001\n",
      "1.000000000000001\n",
      "1.0\n",
      "\n",
      "Overflow\n",
      "1.0\n",
      "1.0\n",
      "1.0\n",
      "1.0\n",
      "1.0\n",
      "1.0\n",
      "1.0\n",
      "1.0\n",
      "1.0\n",
      "2.0\n",
      "0.0\n",
      "0.0\n",
      "0.0\n",
      "0.0\n",
      "0.0\n"
     ]
    }
   ],
   "source": [
    "a = b = 1\n",
    "print(\"Underflow\")\n",
    "for x in range(10,17):\n",
    "    print(a+b*pow(10,-x))\n",
    "    \n",
    "print(\"\\nOverflow\")\n",
    "for x in range(40,55):\n",
    "    print(a+pow(2.14,x)-pow(2.14,x))"
   ]
  },
  {
   "cell_type": "markdown",
   "metadata": {},
   "source": [
    "4\\. Write a program to determine the machine precision\n",
    "\n",
    "**Tips**: define a new variable by adding a smaller and smaller value (proceeding similarly to prob. 2) to an original variable and check the point where the two are the same "
   ]
  },
  {
   "cell_type": "code",
   "execution_count": 4,
   "metadata": {},
   "outputs": [
    {
     "name": "stdout",
     "output_type": "stream",
     "text": [
      "False\n",
      "False\n",
      "True\n",
      "True\n",
      "True\n"
     ]
    }
   ],
   "source": [
    "a = b = 1\n",
    "for x in range(15,20):\n",
    "    print(a==b+2*pow(10,-x))"
   ]
  },
  {
   "cell_type": "markdown",
   "metadata": {},
   "source": [
    "5\\. Write a function that takes in input three parameters $a$, $b$ and $c$ and prints out the two solutions to the quadratic equation $ax^2+bx+c=0$ using the standard formula:\n",
    "$$\n",
    "x=\\frac{-b\\pm\\sqrt{b^2-4ac}}{2a}\n",
    "$$\n",
    "\n",
    "(a) use the program to compute the solution for $a=0.001$, $b=1000$ and $c=0.001$\n",
    "\n",
    "(b) re-express the standard solution formula by multiplying top and bottom by $-b\\mp\\sqrt{b^2-4ac}$ and again find the solution for $a=0.001$, $b=1000$ and $c=0.001$. How does it compare with what previously obtained? Why?\n",
    "\n",
    "(c) write a function that compute the roots of a quadratic equation accurately in all cases"
   ]
  },
  {
   "cell_type": "code",
   "execution_count": 5,
   "metadata": {},
   "outputs": [
    {
     "name": "stdout",
     "output_type": "stream",
     "text": [
      "-9.999894245993346e-07\n",
      "-999999.999999\n",
      "\n",
      "-9.999894245993346e-07\n",
      "-999999.9999989999\n",
      "\n"
     ]
    }
   ],
   "source": [
    "import math\n",
    "\n",
    "def radici(a,b,c):\n",
    "    x_1=(-b+math.sqrt(b**2-4*a*c))/(2*a)\n",
    "    x_2=(-b-math.sqrt(b**2-4*a*c))/(2*a)  \n",
    "    print(x_1)\n",
    "    print(x_2)\n",
    "    print()\n",
    "\n",
    "radici(0.001,1000,0.001)\n",
    "\n",
    "def radici(a,b,c):\n",
    "    x_1=(-b+math.sqrt(b**2-4*a*c))/(2*a)*(-b+math.sqrt(b**2-4*a*c))/(-b+math.sqrt(b**2-4*a*c))\n",
    "    x_2=(-b-math.sqrt(b**2-4*a*c))/(2*a)*(-b+math.sqrt(b**2-4*a*c))/(-b+math.sqrt(b**2-4*a*c))  \n",
    "    print(x_1)\n",
    "    print(x_2)\n",
    "    print()\n",
    "    \n",
    "radici(0.001,1000,0.001)"
   ]
  },
  {
   "cell_type": "markdown",
   "metadata": {},
   "source": [
    "6\\. Write a program that implements the function $f(x)=x(x−1)$\n",
    "\n",
    "(a) Calculate the derivative of the function at the point $x = 1$ using the derivative definition:\n",
    "\n",
    "$$\n",
    "\\frac{{\\rm d}f}{{\\rm d}x} = \\lim_{\\delta\\to0} \\frac{f(x+\\delta)-f(x)}{\\delta}\n",
    "$$\n",
    "\n",
    "with $\\delta = 10^{−2}$. Calculate the true value of the same derivative analytically and compare with the answer your program gives. The two will not agree perfectly. Why not?\n",
    "\n",
    "(b) Repeat the calculation for $\\delta = 10^{−4}, 10^{−6}, 10^{−8}, 10^{−10}, 10^{−12}$ and $10^{−14}$. How does the accuracy scales with $\\delta$?"
   ]
  },
  {
   "cell_type": "code",
   "execution_count": 6,
   "metadata": {},
   "outputs": [
    {
     "name": "stdout",
     "output_type": "stream",
     "text": [
      "0\n",
      "-0.9900000000000001\n",
      "-0.9999\n",
      "-0.999999\n",
      "-0.99999999\n",
      "-0.9999999999\n",
      "-0.9999999999989999\n",
      "-0.99999999999999\n",
      "-0.9999999999999999\n",
      "-1.0\n",
      "-1.0\n",
      "-1.0\n",
      "-1.0\n",
      "-1.0\n",
      "-1.0\n",
      "-1.0\n",
      "-1.0\n",
      "-1.0\n"
     ]
    }
   ],
   "source": [
    "def f(x):\n",
    "    return x*(x-1)\n",
    "\n",
    "def derivative(delta, f, x):\n",
    "    return(f(x+delta)-f(x))/(delta)\n",
    "\n",
    "x = 0\n",
    "print(f(x))\n",
    "for n in range(1,18):\n",
    "    delta = pow(10,-2*n) \n",
    "    print(derivative(delta, f, x))"
   ]
  },
  {
   "cell_type": "markdown",
   "metadata": {},
   "source": [
    "7\\. Consider the integral of the semicircle of radius 1:\n",
    "$$\n",
    "I=\\int_{-1}^{1} \\sqrt(1-x^2) {\\rm d}x\n",
    "$$\n",
    "which it's known to be $I=\\frac{\\pi}{2}=1.57079632679...$.\n",
    "Alternatively we can use the Riemann definition of the integral:\n",
    "$$\n",
    "I=\\lim_{N\\to\\infty} \\sum_{k=1}^{N} h y_k \n",
    "$$\n",
    "\n",
    "with $h=2/N$ the width of each of the $N$ slices the domain is divided into and where\n",
    "$y_k$ is the value of the function at the $k-$th slice.\n",
    "\n",
    "(a) Write a programe to compute the integral with $N=100$. How does the result compares to the true value?\n",
    "\n",
    "(b) How much can $N$ be increased if the computation needs to be run in less than a second? What is the gain in running it for 1 minute? \n"
   ]
  },
  {
   "cell_type": "code",
   "execution_count": null,
   "metadata": {},
   "outputs": [],
   "source": []
  }
 ],
 "metadata": {
  "kernelspec": {
   "display_name": "Python 3 (ipykernel)",
   "language": "python",
   "name": "python3"
  },
  "language_info": {
   "codemirror_mode": {
    "name": "ipython",
    "version": 3
   },
   "file_extension": ".py",
   "mimetype": "text/x-python",
   "name": "python",
   "nbconvert_exporter": "python",
   "pygments_lexer": "ipython3",
   "version": "3.9.12"
  }
 },
 "nbformat": 4,
 "nbformat_minor": 2
}
