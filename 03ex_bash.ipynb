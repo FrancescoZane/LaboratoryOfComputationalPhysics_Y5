{
 "cells": [
  {
   "cell_type": "markdown",
   "metadata": {},
   "source": [
    "The following exercises are meant to be solved by gathering the bash commands incrimentally in two scripts, one for ex 1.* the other for ex 2.*"
   ]
  },
  {
   "cell_type": "markdown",
   "metadata": {},
   "source": [
    "## Ex 1\n",
    "1.a Make a new directory called students in your home. Download a csv file with the list of students of this lab from here (use the wget command) and copy that to students. First check whether the file is already there\n",
    "\n",
    "1.b Make two new files, one containing the students belonging to PoD, the other to Physics.\n",
    "\n",
    "1.c For each letter of the alphabet, count the number of students whose surname starts with that letter.\n",
    "\n",
    "1.d Find out which is the letter with most counts.\n",
    "\n",
    "1.e Assume an obvious numbering of the students in the file (first line is 1, second line is 2, etc.), group students \"modulo 18\", i.e. 1,19,37,.. 2,20,38,.. etc. and put each group in a separate file"
   ]
  },
  {
   "cell_type": "markdown",
   "metadata": {},
   "source": [
    "## Ex 2\n",
    "2.a Make a copy of the file data.csv removing the metadata and the commas between numbers; call it data.txt\n",
    "\n",
    "2.b How many even numbers are there?\n",
    "\n",
    "2.c Distinguish the entries on the basis of sqrt(X^2 + Y^2 + Z^2) is greater or smaller than 100*sqrt(3)/2. Count the entries of each of the two groups\n",
    "\n",
    "2.d Make n copies of data.txt (with n an input parameter of the script), where the i-th copy has all the numbers divided by i (with 1<=i<=n)."
   ]
  },
  {
   "cell_type": "code",
   "execution_count": null,
   "metadata": {},
   "outputs": [],
   "source": []
  }
 ],
 "metadata": {},
 "nbformat": 4,
 "nbformat_minor": 1
}
