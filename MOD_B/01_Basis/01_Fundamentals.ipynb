{
 "cells": [
  {
   "cell_type": "markdown",
   "metadata": {},
   "source": [
    "# Modules/packages/libraries\n",
    "\n",
    "Definitions:\n",
    "\n",
    "  * Modules:\n",
    "  A module is a file which contains python functions, global variables etc. It is nothing but .py file which has python executable code / statement.\n",
    "\n",
    "  * Packages:\n",
    "  A package is a namespace which contains multiple package/modules. It is a directory which contains a special file `__init__.py`\n",
    "  \n",
    "  * Libraries:\n",
    "  A library is a collection of various packages. There is no difference between package and python library conceptually.\n",
    "  \n",
    "Modules/packages/libraries can be easily \"imported\" and made functional in your python code. A set of libriaries comes with every python installation. Others can be installed locally and then imported. Your own code sitting somewhere else in your local computer can be imported too.\n",
    "\n",
    "Further details (very important!) on packages and how to create them can be found online. We may find the need of creating our own during the course."
   ]
  },
  {
   "cell_type": "code",
   "execution_count": 1,
   "metadata": {},
   "outputs": [
    {
     "name": "stdout",
     "output_type": "stream",
     "text": [
      "3.141592653589793\n",
      "3.141592653589793\n",
      "3.141592653589793\n",
      "2.6457513110645907\n"
     ]
    }
   ],
   "source": [
    "# ovviamente prima devo aver scaricato il modulo/pacchetto/libreria all'interno del mio computer\n",
    "\n",
    "###### all the \"stuff\" that is in the math library can be used\n",
    "import math\n",
    "print(math.pi)\n",
    "\n",
    "# you can give math a label for convenience\n",
    "import math as m\n",
    "print (m.pi)\n",
    "\n",
    "# tipically      panda as          and          numpy as\n",
    "\n",
    "# alternatively you can import only a given \"thing\" from the library\n",
    "from math import pi    #you can add several libraries at once, just list them separated by a \", \"\n",
    "print (pi)\n",
    "\n",
    "# or just get everything (very dangerous!!!)\n",
    "from math import *\n",
    "print (sqrt(7))\n",
    "# in questo modo posso evitare di usere i prefissi, pericoloso perchè potrei avere dei conflitti tra i nomi\n",
    "# importati e dei nomi che magari sono già presenti all'interno del mio codice"
   ]
  },
  {
   "cell_type": "markdown",
   "metadata": {},
   "source": [
    "To know which modules are there for you to use just type:"
   ]
  },
  {
   "cell_type": "code",
   "execution_count": 2,
   "metadata": {},
   "outputs": [
    {
     "name": "stdout",
     "output_type": "stream",
     "text": [
      "\n",
      "Please wait a moment while I gather a list of all available modules...\n",
      "\n"
     ]
    },
    {
     "name": "stderr",
     "output_type": "stream",
     "text": [
      "/home/francesco/anaconda3/lib/python3.9/site-packages/IPython/kernel/__init__.py:12: ShimWarning: The `IPython.kernel` package has been deprecated since IPython 4.0.You should import from ipykernel or jupyter_client instead.\n",
      "  warn(\"The `IPython.kernel` package has been deprecated since IPython 4.0.\"\n",
      "WARNING: AstropyDeprecationWarning: The private astropy._erfa module has been made into its own package, pyerfa, which is a dependency of astropy and can be imported directly using \"import erfa\" [astropy._erfa]\n",
      "/home/francesco/anaconda3/lib/python3.9/site-packages/nltk/twitter/__init__.py:20: UserWarning: The twython library has not been installed. Some functionality from the twitter package will not be available.\n",
      "  warnings.warn(\n",
      "/home/francesco/anaconda3/lib/python3.9/site-packages/_distutils_hack/__init__.py:33: UserWarning: Setuptools is replacing distutils.\n",
      "  warnings.warn(\"Setuptools is replacing distutils.\")\n",
      "No QCoreApplication instance found. Application patches not applied. You have to call load_stylesheet function after instantiation of QApplication to take effect. \n"
     ]
    },
    {
     "name": "stdout",
     "output_type": "stream",
     "text": [
      "Cython              certifi             jupyterlab_widgets  rlcompleter\n",
      "IPython             cffi                jwt                 rmagic\n",
      "OpenSSL             cgi                 keyring             rope\n",
      "PIL                 cgitb               keyword             rsa\n",
      "PyQt5               chardet             kiwisolver          rtree\n",
      "TBB                 charset_normalizer  lazy_object_proxy   ruamel_yaml\n",
      "__future__          chunk               lib2to3             runpy\n",
      "_abc                click               libarchive          s3transfer\n",
      "_aix_support        cloudpickle         libfuturize         sched\n",
      "_argon2_cffi_bindings clyent              libpasteurize       scipy\n",
      "_ast                cmath               lief                scrapy\n",
      "_asyncio            cmd                 linecache           seaborn\n",
      "_bisect             code                llvmlite            secrets\n",
      "_black_version      codecs              locale              secretstorage\n",
      "_blake2             codeop              locket              select\n",
      "_bootlocale         collections         logging             selectors\n",
      "_bootsubprocess     colorama            lxml                send2trash\n",
      "_bz2                colorcet            lz4                 service_identity\n",
      "_cffi_backend       colorsys            lzma                setuptools\n",
      "_codecs             compileall          mailbox             shelve\n",
      "_codecs_cn          concurrent          mailcap             shlex\n",
      "_codecs_hk          conda               markdown            shutil\n",
      "_codecs_iso2022     conda_build         markupsafe          signal\n",
      "_codecs_jp          conda_content_trust marshal             sipbuild\n",
      "_codecs_kr          conda_env           math                site\n",
      "_codecs_tw          conda_pack          matplotlib          six\n",
      "_collections        conda_package_handling matplotlib_inline   skimage\n",
      "_collections_abc    conda_token         mccabe              sklearn\n",
      "_compat_pickle      conda_verify        mimetypes           sklearnex\n",
      "_compression        configparser        mistune             slugify\n",
      "_contextvars        constantly          mkl                 smart_open\n",
      "_crypt              contextlib          mkl_fft             smtpd\n",
      "_csv                contextvars         mkl_random          smtplib\n",
      "_ctypes             cookiecutter        mmap                snappy\n",
      "_ctypes_test        copy                mock                sndhdr\n",
      "_curses             copyreg             modulefinder        sniffio\n",
      "_curses_panel       crypt               mpmath              snowballstemmer\n",
      "_datetime           cryptography        msgpack             socket\n",
      "_decimal            cssselect           multidict           socketserver\n",
      "_distutils_hack     csv                 multipledispatch    socks\n",
      "_elementtree        ctypes              multiprocessing     sockshandler\n",
      "_functools          curl                munkres             sortedcollections\n",
      "_hashlib            curses              mypy_extensions     sortedcontainers\n",
      "_heapq              cycler              navigator_updater   soupsieve\n",
      "_imp                cython              nbclassic           sphinx\n",
      "_io                 cythonmagic         nbclient            spwd\n",
      "_json               cytoolz             nbconvert           spyder\n",
      "_locale             daal4py             nbformat            spyder_kernels\n",
      "_lsprof             dask                nest_asyncio        sqlalchemy\n",
      "_lzma               dataclasses         netrc               sqlite3\n",
      "_markupbase         datashader          networkx            sre_compile\n",
      "_md5                datashape           nis                 sre_constants\n",
      "_multibytecodec     datetime            nltk                sre_parse\n",
      "_multiprocessing    dateutil            nntplib             ssl\n",
      "_opcode             dbm                 nose                stack_data\n",
      "_operator           debugpy             notebook            stat\n",
      "_osx_support        decimal             ntpath              statistics\n",
      "_peg_parser         decorator           nturl2path          statsmodels\n",
      "_pickle             defusedxml          numba               storemagic\n",
      "_plotly_future_     diff_match_patch    numbergen           string\n",
      "_plotly_utils       difflib             numbers             stringprep\n",
      "_posixshmem         dis                 numexpr             struct\n",
      "_posixsubprocess    distributed         numpy               subprocess\n",
      "_py_abc             distutils           numpydoc            sunau\n",
      "_pydecimal          doctest             olefile             symbol\n",
      "_pyio               docutils            onedal              sympy\n",
      "_pyrsistent_version email               opcode              sympyprinting\n",
      "_pytest             encodings           openpyxl            symtable\n",
      "_queue              ensurepip           operator            sys\n",
      "_random             entrypoints         optparse            sysconfig\n",
      "_ruamel_yaml        enum                os                  syslog\n",
      "_sha1               erfa                ossaudiodev         tables\n",
      "_sha256             errno               packaging           tabnanny\n",
      "_sha3               et_xmlfile          pandas              tabulate\n",
      "_sha512             executing           pandocfilters       tarfile\n",
      "_signal             fastjsonschema      panel               tbb\n",
      "_sitebuiltins       faulthandler        param               tblib\n",
      "_socket             fcntl               parsel              telnetlib\n",
      "_sqlite3            filecmp             parser              tempfile\n",
      "_sre                fileinput           parso               tenacity\n",
      "_ssl                filelock            partd               terminado\n",
      "_stat               flake8              past                termios\n",
      "_statistics         flask               pathlib             test\n",
      "_string             fnmatch             pathspec            test_pycosat\n",
      "_strptime           fontTools           patsy               testpath\n",
      "_struct             formatter           pdb                 tests\n",
      "_symtable           fractions           pep8                text_unidecode\n",
      "_sysconfigdata__linux_x86_64-linux-gnu frozenlist          pexpect             textdistance\n",
      "_sysconfigdata_x86_64_conda_cos6_linux_gnu fsspec              pickle              textwrap\n",
      "_sysconfigdata_x86_64_conda_cos7_linux_gnu ftplib              pickleshare         this\n",
      "_sysconfigdata_x86_64_conda_linux_gnu functools           pickletools         threading\n",
      "_testbuffer         future              pip                 threadpoolctl\n",
      "_testcapi           gc                  pipes               three_merge\n",
      "_testimportmultiple genericpath         pkg_resources       tifffile\n",
      "_testinternalcapi   gensim              pkginfo             time\n",
      "_testmultiphase     getopt              pkgutil             timeit\n",
      "_thread             getpass             platform            tinycss\n",
      "_threading_local    gettext             platformdirs        tkinter\n",
      "_tkinter            glob                plistlib            tldextract\n",
      "_tracemalloc        glob2               plotly              tlz\n",
      "_uuid               gmpy2               pluggy              token\n",
      "_warnings           google_crc32c       ply                 tokenize\n",
      "_weakref            graphlib            poplib              toml\n",
      "_weakrefset         greenlet            posix               tomli\n",
      "_xxsubinterpreters  grp                 posixpath           toolz\n",
      "_xxtestfuzz         grpc                poyo                tornado\n",
      "_yaml               gzip                pprint              tqdm\n",
      "_zoneinfo           h5py                profile             trace\n",
      "abc                 hamcrest            prometheus_client   traceback\n",
      "aifc                hashlib             prompt_toolkit      tracemalloc\n",
      "aiohttp             heapdict            protego             traitlets\n",
      "aiosignal           heapq               pstats              tty\n",
      "alabaster           hmac                psutil              turtle\n",
      "anaconda_navigator  holoviews           pty                 turtledemo\n",
      "anaconda_project    html                ptyprocess          twisted\n",
      "antigravity         http                pure_eval           typed_ast\n",
      "anyio               hvplot              pvectorc            types\n",
      "appdirs             hyperlink           pwd                 typing\n",
      "argon2              idlelib             py                  typing_extensions\n",
      "argparse            idna                py_compile          ujson\n",
      "array               imagecodecs         pyasn1              unicodedata\n",
      "arrow               imageio             pyasn1_modules      unidecode\n",
      "ast                 imagesize           pyclbr              unittest\n",
      "astroid             imaplib             pycodestyle         urllib\n",
      "astropy             imghdr              pycosat             urllib3\n",
      "asttokens           imp                 pycparser           uu\n",
      "async_timeout       importlib           pyct                uuid\n",
      "asynchat            importlib_metadata  pycurl              venv\n",
      "asyncio             incremental         pydispatch          w3lib\n",
      "asyncore            inflection          pydoc               warnings\n",
      "atexit              iniconfig           pydoc_data          watchdog\n",
      "atomicwrites        inspect             pydocstyle          wave\n",
      "attr                intake              pyexpat             wcwidth\n",
      "attrs               intervaltree        pyflakes            weakref\n",
      "audioop             io                  pygments            webbrowser\n",
      "automat             ipaddress           pylab               webencodings\n",
      "autopep8            ipykernel           pylint              websocket\n",
      "autoreload          ipykernel_launcher  pyls_spyder         werkzeug\n",
      "babel               ipython_genutils    pylsp               whatthepatch\n",
      "backcall            ipywidgets          pylsp_black         wheel\n",
      "backports           isort               pylsp_jsonrpc       widgetsnbextension\n",
      "base64              isympy              pyodbc              wrapt\n",
      "bcrypt              itemadapter         pyparsing           wsgiref\n",
      "bdb                 itemloaders         pyrsistent          wurlitzer\n",
      "binaryornot         itertools           pytest              xarray\n",
      "binascii            itsdangerous        pytz                xdg\n",
      "binhex              jdcal               pyviz_comms         xdrlib\n",
      "binstar_client      jedi                pywt                xlrd\n",
      "bisect              jeepney             pyximport           xlsxwriter\n",
      "bitarray            jellyfish           qdarkstyle          xml\n",
      "bkcharts            jinja2              qstylizer           xmlrpc\n",
      "black               jinja2_time         qtawesome           xxlimited\n",
      "blackd              jmespath            qtconsole           xxsubtype\n",
      "bleach              joblib              qtpy                yaml\n",
      "blib2to3            json                queue               yapf\n",
      "bokeh               json5               queuelib            yapftests\n",
      "boto3               jsonschema          quopri              yarl\n",
      "botocore            jupyter             random              zict\n",
      "bottleneck          jupyter_client      re                  zipapp\n",
      "brotli              jupyter_console     readline            zipfile\n",
      "bs4                 jupyter_core        regex               zipimport\n",
      "builtins            jupyter_server      repo_cli            zipp\n",
      "bz2                 jupyterlab          reprlib             zlib\n",
      "cProfile            jupyterlab_plotly   requests            zmq\n",
      "cachetools          jupyterlab_pygments requests_file       zoneinfo\n",
      "calendar            jupyterlab_server   resource            zope\n",
      "\n",
      "Enter any module name to get more help.  Or, type \"modules spam\" to search\n",
      "for modules whose name or summary contain the string \"spam\".\n",
      "\n",
      "None\n"
     ]
    },
    {
     "name": "stderr",
     "output_type": "stream",
     "text": [
      "/home/francesco/anaconda3/lib/python3.9/pkgutil.py:108: VisibleDeprecationWarning:\n",
      "\n",
      "zmq.eventloop.minitornado is deprecated in pyzmq 14.0 and will be removed.\n",
      "    Install tornado itself to use zmq with the tornado IOLoop.\n",
      "    \n",
      "\n"
     ]
    }
   ],
   "source": [
    "print (help('modules') )\n"
   ]
  },
  {
   "cell_type": "markdown",
   "metadata": {},
   "source": [
    "`pip` is a special package. It is used from the command line to install properly (e.g. matching the version of the local packages) new packages. It can also be used from within python to check i.e. the set installed packages and their versions. N.B.: only the installed packages on top of the default ones will be listed "
   ]
  },
  {
   "cell_type": "code",
   "execution_count": 3,
   "metadata": {},
   "outputs": [],
   "source": [
    "# pip program that runs in your termial (eseguibili nel terminale)\n",
    "# in python pip is libraries\n",
    "# import pip\n",
    "# sorted([\"%s==%s\" % (i.key, i.version) for i in pip._internal.utils.misc.get_installed_distributions()])"
   ]
  },
  {
   "cell_type": "markdown",
   "metadata": {},
   "source": [
    "# Functions"
   ]
  },
  {
   "cell_type": "code",
   "execution_count": 4,
   "metadata": {},
   "outputs": [
    {
     "name": "stdout",
     "output_type": "stream",
     "text": [
      "9\n",
      "27\n",
      "cube 27\n",
      "square 9\n"
     ]
    }
   ],
   "source": [
    "def square(x):\n",
    "    \"\"\"Square of x.\"\"\"\n",
    "    return x*x\n",
    "\n",
    "def cube(x):\n",
    "    \"\"\"Cube of x.\"\"\"\n",
    "    return x*x*x\n",
    "\n",
    "# create a dictionary of functions\n",
    "funcs = {\n",
    "    'square': square,\n",
    "    'cube': cube,\n",
    "}\n",
    "\n",
    "x = 3\n",
    "\n",
    "print(square(x))\n",
    "print(cube(x))\n",
    "\n",
    "for func in sorted(funcs):             # sorted mi mette le chiavi in ordine alfabetico\n",
    "    print (func, funcs[func](x))"
   ]
  },
  {
   "cell_type": "markdown",
   "metadata": {},
   "source": [
    "## Functions arguments"
   ]
  },
  {
   "cell_type": "markdown",
   "metadata": {},
   "source": [
    "What is passsed to a function is a copy of the input. Imagine we have a list *x =[1, 2, 3]*, i.e. a mutable object. If within the function the content of *x* is directly changed (e.g. *x[0] = 999*), then *x* changes outside the function as well. "
   ]
  },
  {
   "cell_type": "code",
   "execution_count": 5,
   "metadata": {},
   "outputs": [
    {
     "name": "stdout",
     "output_type": "stream",
     "text": [
      "[1, 2, 3]\n",
      "[999, 2, 3]\n",
      "[999, 2, 3]\n"
     ]
    }
   ],
   "source": [
    "def modify(x):\n",
    "    x[0] = 999\n",
    "    return x\n",
    "\n",
    "x = [1,2,3]\n",
    "print (x)\n",
    "print (modify(x))\n",
    "print (x)"
   ]
  },
  {
   "cell_type": "markdown",
   "metadata": {},
   "source": [
    "However, if *x* is reassigned within the function to a new object (e.g. another list), then the copy of the name *x* now points to the new object, but *x* outside the function is unhcanged."
   ]
  },
  {
   "cell_type": "code",
   "execution_count": 6,
   "metadata": {},
   "outputs": [
    {
     "name": "stdout",
     "output_type": "stream",
     "text": [
      "[1, 2, 3]\n",
      "[4, 5, 6]\n",
      "[1, 2, 3]\n"
     ]
    }
   ],
   "source": [
    "def no_modify(x):\n",
    "    x = [4,5,6]        # new object\n",
    "    return x\n",
    "\n",
    "x = [1,2,3]\n",
    "print (x)\n",
    "print (no_modify(x))\n",
    "print (x)\n"
   ]
  },
  {
   "cell_type": "markdown",
   "metadata": {},
   "source": [
    "What if the function tries to modify the value of an immutable object?"
   ]
  },
  {
   "cell_type": "markdown",
   "metadata": {},
   "source": [
    "Binding of default arguments occurs at function definition:"
   ]
  },
  {
   "cell_type": "code",
   "execution_count": 7,
   "metadata": {},
   "outputs": [
    {
     "name": "stdout",
     "output_type": "stream",
     "text": [
      "[1]\n",
      "[1, 1]\n",
      "[9, 9, 9, 1]\n",
      "[1, 1, 1]\n",
      "[1, 1, 1, 1]\n"
     ]
    }
   ],
   "source": [
    "def f(x = []):        # argomento di default\n",
    "    x.append(1)\n",
    "    return x\n",
    "\n",
    "print (f())\n",
    "print (f())\n",
    "print (f(x = [9,9,9]))    # questo valore è in qualche modo perso\n",
    "print (f())\n",
    "print (f())"
   ]
  },
  {
   "cell_type": "markdown",
   "metadata": {},
   "source": [
    "Try to aviod that!!"
   ]
  },
  {
   "cell_type": "code",
   "execution_count": 8,
   "metadata": {},
   "outputs": [
    {
     "name": "stdout",
     "output_type": "stream",
     "text": [
      "[1]\n",
      "[1]\n",
      "[9, 9, 9, 1]\n",
      "[1]\n",
      "[1]\n"
     ]
    }
   ],
   "source": [
    "def f(x = None):\n",
    "    if x is None:\n",
    "        x = []\n",
    "    x.append(1)\n",
    "    return x\n",
    "\n",
    "print (f())\n",
    "print (f())\n",
    "print (f(x = [9,9,9]))\n",
    "print (f())\n",
    "print (f())"
   ]
  },
  {
   "cell_type": "markdown",
   "metadata": {},
   "source": [
    "## Higher order functions\n",
    "\n",
    "A function that uses another function as an input argument or returns a function is known as a higher-order function (HOF). The most familiar examples are `map` and `filter`. (Functions that take functions as inputs)"
   ]
  },
  {
   "cell_type": "markdown",
   "metadata": {},
   "source": [
    "### map\n",
    "\n",
    "The map function applies a function to each member of a collection"
   ]
  },
  {
   "cell_type": "code",
   "execution_count": 9,
   "metadata": {},
   "outputs": [
    {
     "name": "stdout",
     "output_type": "stream",
     "text": [
      "<class 'map'>\n",
      "[0, 1, 4, 9, 16]\n",
      "0\n",
      "1\n",
      "4\n",
      "9\n",
      "16\n",
      "[0, 1, 4, 9, 16, 25]\n"
     ]
    }
   ],
   "source": [
    "print(type((map(square, range(5))) ))\n",
    "\n",
    "\n",
    "x = list(map(square, range(5))) \n",
    "print (x)\n",
    "\n",
    "# In python 3 map retuns an iterator so you can do stuff like:\n",
    "for i in map(square,range(5)): print(i)\n",
    "\n",
    "# or\n",
    "lista = [i for i in map(square,range(6))]\n",
    "print(lista)"
   ]
  },
  {
   "cell_type": "markdown",
   "metadata": {},
   "source": [
    "### filter\n",
    "\n",
    "The filter function applies a predicate to each member of a collection, retaining only those members where the predicate is True. (Filter is applicable to functions that return boolean) "
   ]
  },
  {
   "cell_type": "code",
   "execution_count": 10,
   "metadata": {},
   "outputs": [
    {
     "name": "stdout",
     "output_type": "stream",
     "text": [
      "<class 'filter'>\n",
      "[0, 2, 4]\n",
      "(0, 2, 4)\n",
      "[0, 2, 4]\n"
     ]
    }
   ],
   "source": [
    "def is_even(x):\n",
    "    return x%2 == 0  \n",
    "# with the above function we are returning a bool variable\n",
    "\n",
    "print(type(filter(is_even, range(5))))\n",
    "\n",
    "num_pari = list(filter(is_even, range(5)))\n",
    "print(num_pari)\n",
    "\n",
    "num_pari = tuple(filter(is_even, range(5)))\n",
    "print(num_pari)\n",
    "\n",
    "numeri_pari = [i for i in filter(is_even, range(5))]\n",
    "print(numeri_pari)"
   ]
  },
  {
   "cell_type": "markdown",
   "metadata": {},
   "source": [
    "Combinations in sequence of HOF are obviously possible"
   ]
  },
  {
   "cell_type": "code",
   "execution_count": 11,
   "metadata": {},
   "outputs": [
    {
     "name": "stdout",
     "output_type": "stream",
     "text": [
      "[0, 4, 16]\n",
      "{0, 16, 4}\n"
     ]
    }
   ],
   "source": [
    "print(list(map(square, filter(is_even, range(5)))))\n",
    "\n",
    "print({i for i in map(square, filter(is_even, range(5)))})"
   ]
  },
  {
   "cell_type": "markdown",
   "metadata": {},
   "source": [
    "### reduce\n",
    "\n",
    "The reduce function reduces a collection using a binary operator to combine items TWO AT A TIME. More often than not reduce can be substituted with a more efficient for loop. It is worth mentioning it for its key role in big-data applications together with map (the map-reduce paradigm). \n",
    "N.B.: it no loger exist as built-in function in python 3, it is now part of the `functools` library"
   ]
  },
  {
   "cell_type": "code",
   "execution_count": 12,
   "metadata": {},
   "outputs": [
    {
     "name": "stdout",
     "output_type": "stream",
     "text": [
      "15\n"
     ]
    }
   ],
   "source": [
    "from functools import reduce\n",
    "\n",
    "def my_add(x, y):\n",
    "    return x + y\n",
    "\n",
    "# another implementation of the sum function\n",
    "print(reduce(my_add, [1,2,3,4,5]))"
   ]
  },
  {
   "cell_type": "markdown",
   "metadata": {},
   "source": [
    "### zip\n",
    "\n",
    "zip is useful when you need to iterate over matched elements of multiple lists"
   ]
  },
  {
   "cell_type": "code",
   "execution_count": 13,
   "metadata": {
    "scrolled": true
   },
   "outputs": [
    {
     "name": "stdout",
     "output_type": "stream",
     "text": [
      "1 10 a\n",
      "2 20 b\n",
      "3 30 c\n",
      "4 40 d\n",
      "[[1, 10, 'a'], [2, 20, 'b'], [3, 30, 'c'], [4, 40, 'd']]\n"
     ]
    }
   ],
   "source": [
    "xs = [1, 2, 3, 4]\n",
    "ys = [10, 20, 30, 40]\n",
    "zs = ['a', 'b', 'c', 'd', 'e']\n",
    "\n",
    "for x, y, z in zip(xs, ys, zs):\n",
    "    print (x, y, z)\n",
    "\n",
    "lista = []\n",
    "for x, y, z in zip(xs, ys, zs):\n",
    "    lista.append([x,y,z])\n",
    "\n",
    "print(lista)"
   ]
  },
  {
   "cell_type": "markdown",
   "metadata": {},
   "source": [
    "### Custom HOF"
   ]
  },
  {
   "cell_type": "code",
   "execution_count": 14,
   "metadata": {},
   "outputs": [
    {
     "name": "stdout",
     "output_type": "stream",
     "text": [
      "30\n",
      "100\n",
      "[1, 4, 9, 16]\n",
      "[1.0, 1.4142135623730951, 1.7320508075688772, 2.0]\n",
      "5\n",
      "6\n"
     ]
    }
   ],
   "source": [
    "def custom_somma(xs, operazione):        \n",
    "    \"\"\"Returns the sum of xs after a user specified transform.\"\"\"\n",
    "    return sum(map(operazione, xs))\n",
    "\n",
    "xs = range(5)\n",
    "print (custom_somma(xs, square))\n",
    "print (custom_somma(xs, cube))\n",
    "\n",
    "\n",
    "# Esempio mio\n",
    "import math\n",
    "\n",
    "def scegli(lista_num, operazione):\n",
    "    risultato = [x for x in map(operazione, lista_num)]\n",
    "    return risultato\n",
    "\n",
    "def quadrato(x):\n",
    "    x = x**2\n",
    "    return x\n",
    "\n",
    "def radice(x):\n",
    "    x = math.sqrt(x)\n",
    "    return x\n",
    "\n",
    "l = [1,2,3,4]\n",
    "\n",
    "print(scegli(l, quadrato)) \n",
    "print(scegli(l, radice))\n",
    "\n",
    "\n",
    "\n",
    "\n",
    "# Esempio mio\n",
    "\n",
    "def scegli(operazione, a, b):\n",
    "    risultato = operazione(a,b)\n",
    "    return risultato\n",
    "\n",
    "def somma(x,y):\n",
    "    z = x + y\n",
    "    return z\n",
    "\n",
    "def prodotto(x,y):\n",
    "    z = x * y\n",
    "    return z\n",
    "\n",
    "\n",
    "print(scegli(somma, 2, 3)) \n",
    "v = 2\n",
    "w = 3\n",
    "print(scegli(prodotto, v, w))   \n",
    "\n",
    "\n",
    "\n"
   ]
  },
  {
   "cell_type": "markdown",
   "metadata": {},
   "source": [
    "### Returning a function"
   ]
  },
  {
   "cell_type": "code",
   "execution_count": 15,
   "metadata": {},
   "outputs": [
    {
     "name": "stdout",
     "output_type": "stream",
     "text": [
      "<class 'function'>\n",
      "7\n",
      "<class 'function'>\n",
      "12\n",
      "<class 'function'>\n"
     ]
    }
   ],
   "source": [
    "# function as output\n",
    "\n",
    "def prodotto(a,b):\n",
    "        return a*b\n",
    "    \n",
    "print(type(prodotto))\n",
    "    \n",
    "def somma(a,b):\n",
    "        return a+b\n",
    "\n",
    "def calcolo(op):\n",
    "    if op==\"1\":\n",
    "        return somma\n",
    "    elif op==\"2\":\n",
    "        return prodotto\n",
    "    else:\n",
    "        print(\"Errore\")\n",
    "\n",
    "SOMMA = calcolo(\"1\")\n",
    "print(SOMMA(3,4))\n",
    "print(type(SOMMA))\n",
    "\n",
    "PRODOTTO = calcolo(\"2\")\n",
    "print(PRODOTTO(3,4))\n",
    "print(type(PRODOTTO))"
   ]
  },
  {
   "cell_type": "code",
   "execution_count": 16,
   "metadata": {},
   "outputs": [
    {
     "name": "stdout",
     "output_type": "stream",
     "text": [
      "<class 'function'>\n"
     ]
    }
   ],
   "source": [
    "def make_logger(target):\n",
    "    def logger(data):\n",
    "        with open(target, 'a') as f:\n",
    "            f.write(data + '\\n')\n",
    "    return logger\n",
    "\n",
    "foo_logger = make_logger('foo.txt') #foo.txt will be created if not there already\n",
    "# come risultato della funzione make_logger ottengo la funzione logger\n",
    "# con il comando sopra e come se rinominassi la funzione logger\n",
    "print(type(foo_logger))\n",
    "foo_logger('Hello')\n",
    "foo_logger('World')"
   ]
  },
  {
   "cell_type": "code",
   "execution_count": 17,
   "metadata": {},
   "outputs": [
    {
     "name": "stdout",
     "output_type": "stream",
     "text": [
      "Hello\r\n",
      "World\r\n"
     ]
    }
   ],
   "source": [
    "! cat 'foo.txt'   #  ! call an eseguible in your shell, it's not python anymore"
   ]
  },
  {
   "cell_type": "markdown",
   "metadata": {},
   "source": [
    "## Anonimous functions (lambda)\n",
    "\n",
    "When using functional style, there is often the need to create specific functions that perform a limited task as input to a HOF such as map or filter. In such cases, these functions are often written as anonymous or lambda functions. \n",
    "The syntax is as follows:\n",
    "\n",
    "lambda *arguments* : *expression*\n",
    "\n",
    "\n",
    "If you find it hard to understand what a lambda function is doing, it should probably be rewritten as a regular function."
   ]
  },
  {
   "cell_type": "code",
   "execution_count": 18,
   "metadata": {},
   "outputs": [
    {
     "name": "stdout",
     "output_type": "stream",
     "text": [
      "7\n"
     ]
    }
   ],
   "source": [
    "sum = lambda x,y: x+y    # definisce una funzione che dati due input x e y li somma tra loro\n",
    "print(sum(3,4))          # come per le funzioni normali se voglio che funzioni devo dargli dei valori di input"
   ]
  },
  {
   "cell_type": "code",
   "execution_count": 19,
   "metadata": {},
   "outputs": [
    {
     "name": "stdout",
     "output_type": "stream",
     "text": [
      "0\n",
      "1\n",
      "4\n",
      "9\n",
      "16\n",
      "\n",
      "0\n",
      "1\n",
      "4\n",
      "9\n",
      "16\n"
     ]
    }
   ],
   "source": [
    "def quadrato(a):\n",
    "    a = a*a\n",
    "    return a\n",
    "\n",
    "for i in map(quadrato, range(5)): print(i)\n",
    "    \n",
    "print()\n",
    "\n",
    "for i in map(lambda x: x*x, range(5)): print(i)\n"
   ]
  },
  {
   "cell_type": "code",
   "execution_count": 20,
   "metadata": {},
   "outputs": [
    {
     "name": "stdout",
     "output_type": "stream",
     "text": [
      "285\n"
     ]
    }
   ],
   "source": [
    "# what does this function do?\n",
    "from functools import reduce\n",
    "s1 = reduce(lambda x, y: x+y, map(lambda x: x**2, range(1,10)))\n",
    "print(s1)\n"
   ]
  },
  {
   "cell_type": "markdown",
   "metadata": {},
   "source": [
    "## Recursive functions "
   ]
  },
  {
   "cell_type": "code",
   "execution_count": 21,
   "metadata": {},
   "outputs": [
    {
     "name": "stdout",
     "output_type": "stream",
     "text": [
      "10\n",
      "10\n"
     ]
    }
   ],
   "source": [
    "tot = 0\n",
    "def somma_numeri(n):\n",
    "    global tot\n",
    "    if n==0:\n",
    "        print(tot)\n",
    "    else:\n",
    "        tot += n \n",
    "        return somma_numeri(n-1)\n",
    "        \n",
    "    \n",
    "somma_numeri(4)\n",
    "\n",
    "def somma_numeri(n):\n",
    "    global tot\n",
    "    if n==0:\n",
    "        return 0\n",
    "    else:\n",
    "        return n+somma_numeri(n-1)\n",
    "        \n",
    "    \n",
    "print(somma_numeri(4))\n",
    "  "
   ]
  },
  {
   "cell_type": "code",
   "execution_count": 22,
   "metadata": {},
   "outputs": [
    {
     "name": "stdout",
     "output_type": "stream",
     "text": [
      "17711\n",
      "[1, 1, 2, 3, 5, 8, 13, 21, 34, 55]\n"
     ]
    }
   ],
   "source": [
    "def fib1(n):\n",
    "    \"\"\"Fib with recursion.\"\"\"\n",
    "\n",
    "    # base case\n",
    "    if n==0 or n==1:\n",
    "        return 1\n",
    "    # recursive case\n",
    "    else:\n",
    "        return fib1(n-1) + fib1(n-2)\n",
    "\n",
    "print(fib1(21))    \n",
    "print([fib1(i) for i in range(10)])"
   ]
  },
  {
   "cell_type": "code",
   "execution_count": 23,
   "metadata": {},
   "outputs": [
    {
     "name": "stdout",
     "output_type": "stream",
     "text": [
      "[1, 1, 2, 3, 5, 8, 13, 21, 34, 55]\n"
     ]
    }
   ],
   "source": [
    "# In Python, a more efficient version that does not use recursion is\n",
    "\n",
    "def fib2(n):\n",
    "    \"\"\"Fib without recursion.\"\"\"\n",
    "    a, b = 0, 1\n",
    "    for i in range(1, n+1):\n",
    "        a, b = b, a+b\n",
    "    return b\n",
    "\n",
    "print ([fib2(i) for i in range(10)])"
   ]
  },
  {
   "cell_type": "code",
   "execution_count": 24,
   "metadata": {},
   "outputs": [
    {
     "name": "stdout",
     "output_type": "stream",
     "text": [
      "1.07 ms ± 115 µs per loop (mean ± std. dev. of 7 runs, 1000 loops each)\n",
      "488 ns ± 4.19 ns per loop (mean ± std. dev. of 7 runs, 1000000 loops each)\n"
     ]
    }
   ],
   "source": [
    "# check indeed the timing:\n",
    "\n",
    "%timeit fib1(20)\n",
    "%timeit fib2(20)\n",
    "\n",
    "# it makes an average"
   ]
  },
  {
   "cell_type": "markdown",
   "metadata": {},
   "source": [
    "## Iterators\n",
    "\n",
    "Iterators represent streams of values. Because only one value is consumed at a time, they use very little memory. Use of iterators is very helpful for working with data sets too large to fit into RAM."
   ]
  },
  {
   "cell_type": "code",
   "execution_count": 25,
   "metadata": {},
   "outputs": [
    {
     "name": "stdout",
     "output_type": "stream",
     "text": [
      "<class 'list_iterator'>\n",
      "<list_iterator object at 0x7f8ea6584b50>\n",
      "2\n",
      "4\n",
      "3\n",
      "4\n"
     ]
    }
   ],
   "source": [
    "# Iterators can be created from sequences with the built-in function iter()\n",
    "\n",
    "xs = [1,2,3,4]\n",
    "x_iter = iter(xs)\n",
    "\n",
    "print(type(x_iter))\n",
    "\n",
    "print(x_iter)\n",
    "\n",
    "print (next(x_iter)+1)\n",
    "print (next(x_iter)*2)\n",
    "print (next(x_iter))\n",
    "print (next(x_iter))"
   ]
  },
  {
   "cell_type": "code",
   "execution_count": 26,
   "metadata": {},
   "outputs": [
    {
     "name": "stdout",
     "output_type": "stream",
     "text": [
      "1\n",
      "2\n",
      "3\n",
      "4\n",
      "\n",
      "1\n",
      "2\n",
      "3\n",
      "4\n"
     ]
    }
   ],
   "source": [
    "# Most commonly, iterators are used (automatically) within a for loop\n",
    "# which terminates when it encouters a StopIteration exception\n",
    "\n",
    "x_iter = iter(xs)\n",
    "for x in x_iter:\n",
    "    print (x)\n",
    "\n",
    "print()\n",
    "    \n",
    "for x in xs: print(x)"
   ]
  },
  {
   "cell_type": "markdown",
   "metadata": {},
   "source": [
    "## More on comprehensions"
   ]
  },
  {
   "cell_type": "code",
   "execution_count": 27,
   "metadata": {},
   "outputs": [
    {
     "name": "stdout",
     "output_type": "stream",
     "text": [
      "<generator object <genexpr> at 0x7f8ea657c970>\n",
      "[0, 1, 4, 9, 16, 25, 36, 49, 64, 81]\n",
      "{0, 1, 2, 3, 4, 5, 6, 7, 8, 9}\n",
      "{0: 'x', 1: 'x', 2: 'x', 3: 'x', 4: 'x', 5: 'x', 6: 'x', 7: 'x', 8: 'x', 9: 'x'}\n"
     ]
    }
   ],
   "source": [
    "# A generator expression\n",
    "\n",
    "print ((x for x in range(10)))\n",
    "\n",
    "# A list comprehesnnion\n",
    "\n",
    "print ([x**2 for x in range(10)])\n",
    "\n",
    "# A set comprehension\n",
    "\n",
    "print ({x for x in range(10)})\n",
    "\n",
    "# A dictionary comprehension\n",
    "\n",
    "print ({x: \"x\" for x in range(10)})"
   ]
  },
  {
   "cell_type": "markdown",
   "metadata": {},
   "source": [
    "## Useful Modules\n",
    "\n",
    "You may want to have a look at the content of the following modules for further usage of (HO) functions:\n",
    "  - [operator](https://docs.python.org/3/library/operator.html)\n",
    "  - [functools](https://docs.python.org/3/library/functools.html)\n",
    "  - [itertools](https://docs.python.org/3/library/itertools.html)\n",
    "  - [toolz](https://pypi.org/project/toolz/)\n",
    "  - [funcy](https://pypi.org/project/funcy/)"
   ]
  },
  {
   "cell_type": "markdown",
   "metadata": {},
   "source": [
    "## Decorators\n",
    "\n",
    "Decorators are a type of HOF that take a function and return a wrapped function that provides additional useful properties.\n",
    "\n",
    "Examples:\n",
    "\n",
    "  - logging\n",
    "  - profiling\n",
    "  - Just-In-Time (JIT) compilation\n",
    "  \n",
    "A decorator is a design pattern in Python that allows a user to add new functionality to an existing object without modifying its structure."
   ]
  },
  {
   "cell_type": "code",
   "execution_count": 28,
   "metadata": {},
   "outputs": [],
   "source": [
    "def my_decorator(func):\n",
    "    def wrapper():\n",
    "        print(\"Something is happening BEFORE the function is called.\")\n",
    "        func()\n",
    "        print(\"Something is happening AFTER the function is called.\")\n",
    "    return wrapper\n",
    "\n",
    "def say_whee():\n",
    "    print(\"Whee!\")\n",
    "\n",
    "salutare = my_decorator(say_whee)"
   ]
  },
  {
   "cell_type": "code",
   "execution_count": 29,
   "metadata": {},
   "outputs": [
    {
     "name": "stdout",
     "output_type": "stream",
     "text": [
      "Something is happening BEFORE the function is called.\n",
      "Whee!\n",
      "Something is happening AFTER the function is called.\n"
     ]
    }
   ],
   "source": [
    "salutare()"
   ]
  },
  {
   "cell_type": "markdown",
   "metadata": {},
   "source": [
    "Python allows you to use decorators in a simpler way with the @ symbol, sometimes called the “pie” syntax"
   ]
  },
  {
   "cell_type": "code",
   "execution_count": 30,
   "metadata": {},
   "outputs": [],
   "source": [
    "def decorazione(func):\n",
    "    def wrapper():\n",
    "        print(\"Something is happening BEFORE the function is called.\")\n",
    "        func()\n",
    "        print(\"Something is happening AFTER the function is called.\")\n",
    "    return wrapper\n",
    "\n",
    "@decorazione\n",
    "def say_whee():\n",
    "    print(\"Whee!\")\n"
   ]
  },
  {
   "cell_type": "code",
   "execution_count": 31,
   "metadata": {},
   "outputs": [
    {
     "name": "stdout",
     "output_type": "stream",
     "text": [
      "Something is happening BEFORE the function is called.\n",
      "Whee!\n",
      "Something is happening AFTER the function is called.\n"
     ]
    }
   ],
   "source": [
    "say_whee()"
   ]
  },
  {
   "cell_type": "markdown",
   "metadata": {},
   "source": [
    "# Classes and Objects\n",
    "\n",
    "Old school object-oriented programming is possible and often used in python. Classes are defined similarly to standard object-oriented languages, with similar functionalities.\n",
    "\n",
    "The main python doc [page](https://docs.python.org/3/tutorial/classes.html) is worth reading through "
   ]
  },
  {
   "cell_type": "code",
   "execution_count": 32,
   "metadata": {},
   "outputs": [
    {
     "name": "stdout",
     "output_type": "stream",
     "text": [
      "buddy 12\n",
      "3\n",
      "Marco\n"
     ]
    }
   ],
   "source": [
    "class Pet:\n",
    "    # the \"constructor\"\n",
    "    def __init__(self, name, age):  #inizialize the elements of the class\n",
    "        self.name=name\n",
    "        self.age=age\n",
    "    # class functions take the \"self\" parameter !!!\n",
    "    def set_name(self,name):\n",
    "        self.name=name\n",
    "    def convert_age(self,factor):\n",
    "        self.age*=factor\n",
    "\n",
    "buddy=Pet(\"buddy\",12)\n",
    "print (buddy.name, buddy.age)\n",
    "buddy.age=3\n",
    "print (buddy.age)\n",
    "buddy.set_name(\"Marco\")\n",
    "print(buddy.name)\n"
   ]
  },
  {
   "cell_type": "code",
   "execution_count": 33,
   "metadata": {},
   "outputs": [
    {
     "name": "stdout",
     "output_type": "stream",
     "text": [
      "tobia\n",
      "70\n"
     ]
    }
   ],
   "source": [
    "# ineritance is straightforward\n",
    "class Dog(Pet):\n",
    "    # the following variables is \"global\", i.e. holds for all \"Dog\" objects\n",
    "    species = \"mammal\"\n",
    "    # functions can be redefined as usual\n",
    "    def convert_age(self):\n",
    "        self.age*=7\n",
    "    def set_species(self, species):\n",
    "        self.species = species\n",
    "        \n",
    "puppy=Dog(\"tobia\",10)\n",
    "print(puppy.name)\n",
    "puppy.convert_age()\n",
    "print(puppy.age)\n",
    "\n"
   ]
  }
 ],
 "metadata": {
  "kernelspec": {
   "display_name": "Python 3 (ipykernel)",
   "language": "python",
   "name": "python3"
  },
  "language_info": {
   "codemirror_mode": {
    "name": "ipython",
    "version": 3
   },
   "file_extension": ".py",
   "mimetype": "text/x-python",
   "name": "python",
   "nbconvert_exporter": "python",
   "pygments_lexer": "ipython3",
   "version": "3.9.12"
  }
 },
 "nbformat": 4,
 "nbformat_minor": 2
}
