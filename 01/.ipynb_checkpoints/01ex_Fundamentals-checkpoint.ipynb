{
 "cells": [
  {
   "cell_type": "markdown",
   "metadata": {},
   "source": [
    "# Esercizio 0"
   ]
  },
  {
   "cell_type": "markdown",
   "metadata": {},
   "source": [
    "0\\. Implement a function (whatever you want) and save it to a file (e.g. `function.py`). Import that file and use that function in this notebook.\n"
   ]
  },
  {
   "cell_type": "code",
   "execution_count": null,
   "metadata": {},
   "outputs": [],
   "source": [
    "import function\n",
    "function.comp_num(4,6)\n",
    "function.comp_str(\"Pippo\",\"PlutoTheBest\") "
   ]
  },
  {
   "cell_type": "code",
   "execution_count": null,
   "metadata": {},
   "outputs": [],
   "source": [
    "from function import comp_num\n",
    "comp_num(4,6)\n",
    "#comp_str(\"Pippo\",\"PlutoTheBest\") -> questo darà errore perchè non ho importato la funzione comp_str da function.py"
   ]
  },
  {
   "cell_type": "markdown",
   "metadata": {},
   "source": [
    "# Esercizio 1"
   ]
  },
  {
   "cell_type": "markdown",
   "metadata": {},
   "source": [
    "1\\. Write the following as a list comprehension"
   ]
  },
  {
   "cell_type": "code",
   "execution_count": null,
   "metadata": {},
   "outputs": [],
   "source": [
    "# 1\n",
    "ans1 = []\n",
    "for i in range(3):\n",
    "    for j in range(4):\n",
    "        ans1.append((i, j))\n",
    "print (ans1)\n",
    "\n",
    "# 2\n",
    "ans2 = map(lambda x: x*x, filter(lambda x: x%2 == 0, range(5)))\n",
    "print (list(ans2))\n",
    "\n"
   ]
  },
  {
   "cell_type": "code",
   "execution_count": null,
   "metadata": {},
   "outputs": [],
   "source": [
    "ans1_mio = [(i,j) for i in range(3) for j in range(4)]\n",
    "print(ans1_mio)\n",
    "\n",
    "ans2_mio = [x*x for x in filter(lambda x: x%2 == 0, range(5))]\n",
    "print(ans2_mio)"
   ]
  },
  {
   "cell_type": "markdown",
   "metadata": {},
   "source": [
    "# Esercizio 2"
   ]
  },
  {
   "cell_type": "markdown",
   "metadata": {},
   "source": [
    "2\\. Convert the following function into a pure function with no global variables or side effects"
   ]
  },
  {
   "cell_type": "code",
   "execution_count": null,
   "metadata": {},
   "outputs": [],
   "source": [
    "x = 5\n",
    "def f(alist):\n",
    "    for i in range(x):\n",
    "         alist.append(i)\n",
    "    return alist\n",
    "\n",
    "alist = [1,2,3]\n",
    "ans = f(alist)\n",
    "print (ans)\n",
    "print (alist) # alist has been changed!"
   ]
  },
  {
   "cell_type": "code",
   "execution_count": null,
   "metadata": {},
   "outputs": [],
   "source": [
    "x = 5\n",
    "def f(alist):\n",
    "    lista = []\n",
    "    lista.extend(alist)\n",
    "    for i in range(x):\n",
    "         lista.append(i)\n",
    "    return lista\n",
    "\n",
    "alist = [1,2,3]\n",
    "ans = f(alist)\n",
    "print (ans)\n",
    "print (alist)"
   ]
  },
  {
   "cell_type": "markdown",
   "metadata": {},
   "source": [
    "# Esercizio 3"
   ]
  },
  {
   "cell_type": "markdown",
   "metadata": {},
   "source": [
    "3\\. Write a `decorator` hello that makes every wrapped function print “Hello!”, i.e. something like:\n",
    "\n",
    "```python\n",
    "@hello\n",
    "def square(x):\n",
    "    return x*x\n",
    "```\n",
    "\n"
   ]
  },
  {
   "cell_type": "code",
   "execution_count": null,
   "metadata": {},
   "outputs": [],
   "source": []
  },
  {
   "cell_type": "code",
   "execution_count": null,
   "metadata": {},
   "outputs": [],
   "source": [
    "# first way\n",
    "\n",
    "def HELLO(function,n):\n",
    "    def abbraccio():\n",
    "        print(\"Hello!\")\n",
    "        print(function(n))\n",
    "    return abbraccio\n",
    "\n",
    "def square(x):\n",
    "    return x*x\n",
    "\n",
    "k = 5\n",
    "\n",
    "ciao = HELLO(square,k)\n",
    "ciao()\n",
    "\n",
    "# second way\n",
    "\n",
    "k = 5\n",
    "\n",
    "def hello(function):\n",
    "    global k\n",
    "    def prima():\n",
    "        print(\"Hello!\")\n",
    "        print(function(k))\n",
    "    return prima\n",
    "\n",
    "\n",
    "@hello\n",
    "def somma(x):\n",
    "    return x+x\n",
    "\n",
    "somma()"
   ]
  },
  {
   "cell_type": "markdown",
   "metadata": {},
   "source": [
    "# Esercizio 4"
   ]
  },
  {
   "cell_type": "markdown",
   "metadata": {},
   "source": [
    "4\\. Write the factorial function so that it a) does and b) does not use recursion."
   ]
  },
  {
   "cell_type": "code",
   "execution_count": null,
   "metadata": {},
   "outputs": [],
   "source": [
    "def factorial(n):\n",
    "    if n==0:\n",
    "        return 1\n",
    "    else:\n",
    "        return n*factorial(n-1)\n",
    "    \n",
    "print(factorial(1))\n",
    "print(factorial(2))\n",
    "print(factorial(3))\n",
    "print(factorial(4))"
   ]
  },
  {
   "cell_type": "code",
   "execution_count": null,
   "metadata": {},
   "outputs": [],
   "source": [
    "def factorial_for(n):\n",
    "    tot = 1\n",
    "    for x in range(1,n+1):\n",
    "        tot *= x\n",
    "    return(tot)\n",
    "    \n",
    "print(factorial_for(1))\n",
    "print(factorial_for(2))\n",
    "print(factorial_for(3))\n",
    "print(factorial_for(4))"
   ]
  },
  {
   "cell_type": "code",
   "execution_count": null,
   "metadata": {},
   "outputs": [],
   "source": [
    "# check indeed the timing:\n",
    "\n",
    "%timeit factorial(10)\n",
    "%timeit factorial_for(10)\n",
    "\n",
    "# it makes an average"
   ]
  },
  {
   "cell_type": "markdown",
   "metadata": {},
   "source": [
    "# Esercizio 5"
   ]
  },
  {
   "cell_type": "markdown",
   "metadata": {},
   "source": [
    "5\\. Use HOFs (zip in particular) to compute the weight of a circle, a disk and a sphere, assuming different radii and different densities:\n",
    "\n",
    "```python\n",
    "densities = {\"Al\":[0.5,1,2],\"Fe\":[3,4,5],\"Pb\": [15,20,30]}\n",
    "radii = [1,2,3]\n",
    "```\n",
    "\n",
    "where the entries of the dictionary's values are the linear, superficial and volumetric densities of the materials respectively.\n",
    "\n",
    "In particular define a list of three lambda functions using a comprehension that computes the circumference, the area and the volume for a given radius."
   ]
  },
  {
   "cell_type": "code",
   "execution_count": null,
   "metadata": {},
   "outputs": [],
   "source": [
    "from math import pi\n",
    "\n",
    "densities = {\"Al\":[0.5,1,2],\"Fe\":[3,4,5],\"Pb\": [15,20,30]}\n",
    "radii = [1,2,3]\n",
    "\n",
    "\n",
    "operazioni = [lambda r: 2*pi*r, lambda r: pi*r**2, lambda r: 4/3*pi*r**3]\n",
    "\n",
    "for i,rad in zip(range(3),radii):\n",
    "    for mat in list(densities.keys()):\n",
    "        print(\"Un circonferenza di\", mat, \"e raggio\", rad, \"pesa:\", densities[mat][i]*operazioni[0](rad))\n",
    "    print()\n",
    "    \n",
    "for i,rad in zip(range(3),radii):\n",
    "    for mat in list(densities.keys()):\n",
    "        print(\"Un cerchio di\", mat, \"e raggio\", rad, \"pesa:\", densities[mat][i]*operazioni[1](rad))\n",
    "    print()\n",
    "    \n",
    "for i,rad in zip(range(3),radii):\n",
    "    for mat in list(densities.keys()):\n",
    "        print(\"Una sfera di\", mat, \"e raggio\", rad, \"pesa:\", densities[mat][i]*operazioni[2](rad))\n",
    "    print()\n"
   ]
  },
  {
   "cell_type": "markdown",
   "metadata": {},
   "source": [
    "# Esercizio 6"
   ]
  },
  {
   "cell_type": "markdown",
   "metadata": {},
   "source": [
    "6\\.\n",
    "\n",
    "Edit the class defintion to add an instance attribute of is_hungry = True to the Dog class.\n",
    "\n",
    "Then add a method called eat() which changes the value of is_hungry to False when called. Figure out the best way to feed each dog and then output “My dogs are hungry.” if all are hungry or “My dogs are not hungry.” if all are not hungry. The final output should look like this:\n",
    "\n",
    "`I have 3 dogs. \n",
    "Tom is 6. \n",
    "Fletcher is 7. \n",
    "Larry is 9. \n",
    "And they're all mammals, of course. \n",
    "My dogs are not hungry.\n",
    "`"
   ]
  },
  {
   "cell_type": "code",
   "execution_count": 6,
   "metadata": {},
   "outputs": [
    {
     "name": "stdout",
     "output_type": "stream",
     "text": [
      "I have 3 dogs\n",
      "Tom is 6\n",
      "Fletcher is 7\n",
      "Larry is 9\n",
      "And they're all mammals, of course.\n",
      "\n",
      "Is dog Tom hungry? True\n",
      "Is dog Fletcher hungry? True\n",
      "Is dog Larry hungry? True\n",
      "\n",
      "They are all hungry\n",
      "\n",
      "I'm feeding: Tom\n",
      "I'm feeding: Fletcher\n",
      "I'm feeding: Larry\n",
      "\n",
      "Is dog Tom hungry? False\n",
      "Is dog Fletcher hungry? False\n",
      "Is dog Larry hungry? False\n",
      "\n",
      "They are all not hungry\n"
     ]
    }
   ],
   "source": [
    "lista = []\n",
    "class Dog:\n",
    "\n",
    "    species = 'mammal'\n",
    "\n",
    "    def __init__(self, name, age):\n",
    "        self.name = name\n",
    "        self.age = age\n",
    "        self.is_hungry  = True\n",
    "        lista.append(self)\n",
    "        \n",
    "    def description(self):\n",
    "        return \"{} is {} years old\".format(self.name, self.age)\n",
    "\n",
    "    def speak(self, sound):\n",
    "        return \"{} says {}\".format(self.name, sound)\n",
    "    \n",
    "    def eat(self):\n",
    "        self.is_hungry  = False\n",
    "        \n",
    "class RussellTerrier(Dog):\n",
    "    def run(self, speed):\n",
    "        return \"{} runs {}\".format(self.name, speed)\n",
    "\n",
    "\n",
    "class Bulldog(Dog):\n",
    "    def run(self, speed):\n",
    "        return \"{} runs {}\".format(self.name, speed)\n",
    "\n",
    "def hanno_mangiato(l):\n",
    "    t = 0\n",
    "    f = 0\n",
    "    for a in l: \n",
    "        if a.is_hungry==True:\n",
    "            t+=1\n",
    "        if a.is_hungry==False:\n",
    "            f+=1\n",
    "    \n",
    "    if t==len(l):\n",
    "        print(\"They are all hungry\")\n",
    "\n",
    "    elif f==len(l):\n",
    "        print(\"They are all not hungry\")\n",
    "        \n",
    "    else:\n",
    "        print(\"Some dog is hungry someother not\")\n",
    "    \n",
    "\n",
    "    \n",
    "cane1 = Dog(\"Tom\",6)\n",
    "cane2 = Dog(\"Fletcher\",7)\n",
    "cane3 = Dog(\"Larry\",9)\n",
    "print(\"I have\", len(lista), \"dogs\")\n",
    "for animal in lista:\n",
    "    print(animal.name, \"is\", animal.age)\n",
    "print(\"And they're all mammals, of course.\")\n",
    "print()\n",
    "\n",
    "for a in lista:\n",
    "    print(\"Is dog\", a.name, \"hungry?\", a.is_hungry)\n",
    "\n",
    "print()\n",
    "hanno_mangiato(lista)\n",
    "print()\n",
    "    \n",
    "for animal in lista:\n",
    "    animal.eat()\n",
    "    print(\"I'm feeding:\", animal.name)\n",
    "\n",
    "print()\n",
    "\n",
    "for a in lista:\n",
    "    print(\"Is dog\", a.name, \"hungry?\", a.is_hungry)\n",
    "\n",
    "print()\n",
    "\n",
    "hanno_mangiato(lista)"
   ]
  },
  {
   "cell_type": "code",
   "execution_count": null,
   "metadata": {},
   "outputs": [],
   "source": [
    "class giocatore:\n",
    "    def __init__(self, nome):\n",
    "        self.nome = nome\n",
    "    \n",
    "    def salutare(self, cognome):\n",
    "        self.cognome = cognome\n",
    "        print(\"Ciao a tutti, io sono \" + self.cognome)\n",
    "        \n",
    "player1 = giocatore(\"Fra\")\n",
    "player1.salutare(\"Zane\")\n",
    "print(player1.cognome)\n",
    "\n",
    "\n",
    "\n",
    "class attività(giocatore):\n",
    "    def __init__(self,sport):\n",
    "        self.sport = sport\n",
    "    \n",
    "    def segnare(self):\n",
    "        print(\"Per fare punti devo mettere la palla dentro un canestro\")\n",
    "\n",
    "bas1 = attività(\"Basket\")\n",
    "bas1.segnare()\n",
    "bas1.salutare(\"Zane\")\n",
    "\n",
    "\n",
    "\n",
    "class attività(giocatore):\n",
    "    def __init__(self,sport,nome):\n",
    "        super().__init__(nome)             #  questo permette di ereditare   self.nome = nome\n",
    "        self.sport = sport\n",
    "    \n",
    "    def segnare(self):\n",
    "        print(\"Per fare punti devo mettere la palla dentro un canestro\")\n",
    "\n",
    "bas1 = attività(\"Fra\",\"Basket\")\n",
    "bas1.segnare()\n"
   ]
  }
 ],
 "metadata": {
  "kernelspec": {
   "display_name": "Python 3 (ipykernel)",
   "language": "python",
   "name": "python3"
  },
  "language_info": {
   "codemirror_mode": {
    "name": "ipython",
    "version": 3
   },
   "file_extension": ".py",
   "mimetype": "text/x-python",
   "name": "python",
   "nbconvert_exporter": "python",
   "pygments_lexer": "ipython3",
   "version": "3.9.12"
  }
 },
 "nbformat": 4,
 "nbformat_minor": 2
}
