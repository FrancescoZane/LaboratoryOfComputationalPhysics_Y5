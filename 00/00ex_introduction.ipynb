{
 "cells": [
  {
   "cell_type": "markdown",
   "metadata": {},
   "source": [
    "1. The MickeyMouse problem\n",
    "\n",
    "a) Write a program that prints the numbers from 1 to 100. But for multiples of 3 print `Mickey` instead of the corresponding number and for the multiples of 5 print `Mouse`. For numbers which are multiples of both three and five print `MickeyMouse`\n",
    "\n",
    "b) Put the result in a tuple and substitute `Mickey` with `Donald` and `Mouse` with `Duck`"
   ]
  },
  {
   "cell_type": "code",
   "execution_count": 6,
   "metadata": {},
   "outputs": [
    {
     "name": "stdout",
     "output_type": "stream",
     "text": [
      "1\n",
      "2\n",
      "Mickey\n",
      "4\n",
      "Mouse\n",
      "Mickey\n",
      "7\n",
      "8\n",
      "Mickey\n",
      "Mouse\n",
      "11\n",
      "Mickey\n",
      "13\n",
      "14\n",
      "MickeyMouse\n",
      "16\n",
      "17\n",
      "Mickey\n",
      "19\n",
      "Mouse\n",
      "[1, 2, 'Mickey', 4, 'Mouse', 'Mickey', 7, 8, 'Mickey', 'Mouse', 11, 'Mickey', 13, 14, 'MickeyMouse', 16, 17, 'Mickey', 19, 'Mouse']\n",
      "(1, 2, 'Donald', 4, 'Duck', 'Donald', 7, 8, 'Donald', 'Duck', 11, 'Donald', 13, 14, 'MickeyMouse', 16, 17, 'Donald', 19, 'Duck')\n"
     ]
    }
   ],
   "source": [
    "for x in range(1,21):\n",
    "    if x%3==0 and x%5==0:\n",
    "        print(\"MickeyMouse\")\n",
    "    elif x%3==0:\n",
    "        print(\"Mickey\")\n",
    "    elif x%5==0:\n",
    "        print(\"Mouse\")\n",
    "    else:\n",
    "        print(x)\n",
    "\n",
    "lista = []\n",
    "for x in range(1,21):\n",
    "    if x%3==0 and x%5==0:\n",
    "        lista.append(\"MickeyMouse\")\n",
    "    elif x%3==0:\n",
    "        lista.append(\"Mickey\")\n",
    "    elif x%5==0:\n",
    "        lista.append(\"Mouse\")\n",
    "    else:\n",
    "        lista.append(x)\n",
    "\n",
    "print(lista)\n",
    "        \n",
    "for y in range(len(lista)):\n",
    "    if lista[y] == \"Mickey\":\n",
    "        lista[y] = \"Donald\"\n",
    "    elif lista[y] == \"Mouse\":\n",
    "        lista[y] = \"Duck\"\n",
    "\n",
    "tupla = tuple(lista)\n",
    "print(tupla)\n"
   ]
  },
  {
   "cell_type": "markdown",
   "metadata": {},
   "source": [
    "2\\. The swap function\n",
    "\n",
    "Write a function that swap the values of two input variables x and y (whatever the type). Try to do that also without a temporary variable"
   ]
  },
  {
   "cell_type": "code",
   "execution_count": 2,
   "metadata": {},
   "outputs": [
    {
     "name": "stdout",
     "output_type": "stream",
     "text": [
      "4 3\n",
      "6 5\n"
     ]
    }
   ],
   "source": [
    "x = 3\n",
    "y = 4\n",
    "def inverto1(a,b):\n",
    "    c = b\n",
    "    b = a\n",
    "    a = c\n",
    "    return a,b\n",
    "x,y = inverto1(x,y)\n",
    "print(x, y)\n",
    "\n",
    "x = 5\n",
    "y = 6\n",
    "def inverto2(a,b):\n",
    "    global x,y\n",
    "    b = x\n",
    "    a = y\n",
    "    return a,b\n",
    "x,y = inverto2(x,y)\n",
    "print(x, y)"
   ]
  },
  {
   "cell_type": "markdown",
   "metadata": {},
   "source": [
    "3\\. Computing the distance\n",
    "\n",
    "Write a function that calculates and returns the euclidean distance between two points *u* and *v*, where *u* and *v* are both 2-tuples *(x,y)*. For example, if *u=(3,0)* and *v=(0,4)*, the function should return 5"
   ]
  },
  {
   "cell_type": "code",
   "execution_count": 49,
   "metadata": {},
   "outputs": [
    {
     "name": "stdout",
     "output_type": "stream",
     "text": [
      "4.0\n"
     ]
    }
   ],
   "source": [
    "import math\n",
    "u = (0,0)\n",
    "v = (4,0)\n",
    "\n",
    "def distanza(a,b):\n",
    "    dist_x = pow(u[0]-v[0],2)\n",
    "    dist_y = pow(u[1]-v[1],2)\n",
    "    dist = math.sqrt(dist_x + dist_y)\n",
    "    return dist\n",
    "\n",
    "print(distanza(u,v))"
   ]
  },
  {
   "cell_type": "markdown",
   "metadata": {},
   "source": [
    "4\\. Counting letters\n",
    "\n",
    "Write a program to calculate the number of times each character occurs in a given string *s*. Ignore differneces in capitalization"
   ]
  },
  {
   "cell_type": "code",
   "execution_count": null,
   "metadata": {},
   "outputs": [],
   "source": [
    "s=\"Write a program that prints the numbers from 1 to 100. \\\n",
    "But for multiples of three print Mickey instead of the number and for the multiples of five print Mouse. \\\n",
    "For numbers which are multiples of both three and five print MickeyMouse\""
   ]
  },
  {
   "cell_type": "code",
   "execution_count": 9,
   "metadata": {},
   "outputs": [
    {
     "name": "stdout",
     "output_type": "stream",
     "text": [
      "['w', 'r', 'i', 't', 'e', ' ', 'a', 'p', 'o', 'g', 'm', 'h', 'n', 's', 'u', 'b', 'f', '1', '0', '.', 'l', 'c', 'k', 'y', 'd', 'v']\n",
      "Il carattere w compare 2 volte\n",
      "Il carattere r compare 17 volte\n",
      "Il carattere i compare 14 volte\n",
      "Il carattere t compare 19 volte\n",
      "Il carattere e compare 22 volte\n",
      "Il carattere   compare 41 volte\n",
      "Il carattere a compare 7 volte\n",
      "Il carattere p compare 8 volte\n",
      "Il carattere o compare 13 volte\n",
      "Il carattere g compare 1 volte\n",
      "Il carattere m compare 12 volte\n",
      "Il carattere h compare 9 volte\n",
      "Il carattere n compare 10 volte\n",
      "Il carattere s compare 9 volte\n",
      "Il carattere u compare 9 volte\n",
      "Il carattere b compare 5 volte\n",
      "Il carattere f compare 10 volte\n",
      "Il carattere 1 compare 2 volte\n",
      "Il carattere 0 compare 2 volte\n",
      "Il carattere . compare 2 volte\n",
      "Il carattere l compare 6 volte\n",
      "Il carattere c compare 3 volte\n",
      "Il carattere k compare 2 volte\n",
      "Il carattere y compare 2 volte\n",
      "Il carattere d compare 3 volte\n",
      "Il carattere v compare 2 volte\n"
     ]
    }
   ],
   "source": [
    "s = \"Write a program that prints the numbers from 1 to 100. \\\n",
    "But for multiples of three print Mickey instead of the number and for the multiples of five print Mouse. \\\n",
    "For numbers which are multiples of both three and five print MickeyMouse\"\n",
    "s = s.lower()\n",
    "elenco = []\n",
    "for lett_1 in s:\n",
    "    num = 0\n",
    "    for lett_2 in elenco:\n",
    "        if lett_2!=lett_1:\n",
    "            num += 1\n",
    "    if num==len(elenco):\n",
    "        elenco.append(lett_1)\n",
    "    else:\n",
    "        continue\n",
    "print(elenco)    \n",
    "\n",
    "for check in elenco:\n",
    "    count = 0\n",
    "    for lett_2 in s:\n",
    "        if check==lett_2:\n",
    "            count +=1\n",
    "    print(\"Il carattere\", check, \"compare\", count, \"volte\")"
   ]
  },
  {
   "cell_type": "markdown",
   "metadata": {},
   "source": [
    "5\\. Isolating the unique\n",
    "\n",
    "Write a function that determines and count the unique numbers in the list *l*"
   ]
  },
  {
   "cell_type": "code",
   "execution_count": null,
   "metadata": {},
   "outputs": [],
   "source": [
    "l = [36, 45, 58, 3, 74, 96, 64, 45, 31, 10, 24, 19, 33, 86, 99, 18, 63, 70, 85,\n",
    " 85, 63, 47, 56, 42, 70, 84, 88, 55, 20, 54, 8, 56, 51, 79, 81, 57, 37, 91,\n",
    " 1, 84, 84, 36, 66, 9, 89, 50, 42, 91, 50, 95, 90, 98, 39, 16, 82, 31, 92, 41,\n",
    " 45, 30, 66, 70, 34, 85, 94, 5, 3, 36, 72, 91, 84, 34, 87, 75, 53, 51, 20, 89, 51, 20]"
   ]
  },
  {
   "cell_type": "code",
   "execution_count": 3,
   "metadata": {},
   "outputs": [
    {
     "name": "stdout",
     "output_type": "stream",
     "text": [
      "[58, 74, 96, 64, 10, 24, 19, 33, 86, 99, 18, 47, 88, 55, 54, 8, 79, 81, 57, 37, 1, 9, 95, 90, 98, 39, 16, 82, 92, 41, 30, 94, 5, 72, 87, 75, 53]\n"
     ]
    }
   ],
   "source": [
    "l = [36, 45, 58, 3, 74, 96, 64, 45, 31, 10, 24, 19, 33, 86, 99, 18, 63, 70, 85,\n",
    " 85, 63, 47, 56, 42, 70, 84, 88, 55, 20, 54, 8, 56, 51, 79, 81, 57, 37, 91,\n",
    " 1, 84, 84, 36, 66, 9, 89, 50, 42, 91, 50, 95, 90, 98, 39, 16, 82, 31, 92, 41,\n",
    " 45, 30, 66, 70, 34, 85, 94, 5, 3, 36, 72, 91, 84, 34, 87, 75, 53, 51, 20, 89, 51, 20]\n",
    "\n",
    "def isolati(lista):\n",
    "    elenco = []\n",
    "    for num_1 in lista:\n",
    "        count = 0\n",
    "        for num_2 in lista:\n",
    "            if num_1==num_2:\n",
    "                count += 1\n",
    "        if count==1:\n",
    "            elenco.append(num_1)\n",
    "    return elenco\n",
    "\n",
    "print(isolati(l))"
   ]
  },
  {
   "cell_type": "markdown",
   "metadata": {},
   "source": [
    "6\\. Combination of functions\n",
    "\n",
    "Write two functions - one that returns the square of a number, and one that returns the cube. Now write a third function that returns the number raised to the 6th power using the two previous functions."
   ]
  },
  {
   "cell_type": "code",
   "execution_count": 7,
   "metadata": {},
   "outputs": [
    {
     "name": "stdout",
     "output_type": "stream",
     "text": [
      "Inserire un numero: 6.7\n",
      "\n",
      "Verifico il programma confrontando 90458.38216900002 con 90458.38216900002\n"
     ]
    }
   ],
   "source": [
    "def quadrato(num):\n",
    "    q = num*num\n",
    "    return q\n",
    "\n",
    "def cubo(num):\n",
    "    c = pow(num,3)\n",
    "    return c\n",
    "\n",
    "def sesta(numero):\n",
    "    s = quadrato(numero)*cubo(numero)*numero\n",
    "    return s\n",
    "\n",
    "n = input(\"Inserire un numero: \")\n",
    "finale = sesta(float(n))\n",
    "print()\n",
    "print(\"Verifico il programma confrontando\", finale, \"con\", pow(float(n),6) )"
   ]
  },
  {
   "cell_type": "markdown",
   "metadata": {},
   "source": [
    "7\\. Cubes\n",
    "\n",
    "Create a list of the cubes of x for x in *[0, 10]* using:\n",
    "\n",
    "a) a for loop\n",
    "\n",
    "b) a list comprehension"
   ]
  },
  {
   "cell_type": "code",
   "execution_count": 9,
   "metadata": {},
   "outputs": [
    {
     "name": "stdout",
     "output_type": "stream",
     "text": [
      "[0, 1, 8, 27, 64, 125, 216, 343, 512, 729, 1000]\n",
      "[0, 1, 8, 27, 64, 125, 216, 343, 512, 729, 1000]\n"
     ]
    }
   ],
   "source": [
    "triple_1 = []\n",
    "for x in range(11):\n",
    "    triple_1.append(x*x*x)\n",
    "print(triple_1)\n",
    "\n",
    "triple_2 = [pow(x,3) for x in range(11)]\n",
    "print(triple_2)"
   ]
  },
  {
   "cell_type": "markdown",
   "metadata": {},
   "source": [
    "8\\. Nested list comprehension\n",
    "\n",
    "A Pythagorean triple is an integer solution to the Pythagorean theorem $a^2+b^2=c^2$. The first Pythagorean triple is (3,4,5). Find and put in a tuple all unique Pythagorean triples for the positive integers a, b and c less than 100."
   ]
  },
  {
   "cell_type": "code",
   "execution_count": 5,
   "metadata": {},
   "outputs": [
    {
     "name": "stdout",
     "output_type": "stream",
     "text": [
      "All Pythagorean triples are: \n",
      "[[3, 4, 5], [5, 12, 13], [6, 8, 10], [7, 24, 25], [8, 15, 17], [9, 12, 15], [9, 40, 41], [10, 24, 26], [11, 60, 61], [12, 16, 20], [12, 35, 37], [13, 84, 85], [14, 48, 50], [15, 20, 25], [15, 36, 39], [16, 30, 34], [16, 63, 65], [18, 24, 30], [18, 80, 82], [20, 21, 29], [20, 48, 52], [21, 28, 35], [21, 72, 75], [24, 32, 40], [24, 45, 51], [24, 70, 74], [25, 60, 65], [27, 36, 45], [28, 45, 53], [28, 96, 100], [30, 40, 50], [30, 72, 78], [32, 60, 68], [33, 44, 55], [33, 56, 65], [35, 84, 91], [36, 48, 60], [36, 77, 85], [39, 52, 65], [39, 80, 89], [40, 42, 58], [40, 75, 85], [42, 56, 70], [45, 60, 75], [48, 55, 73], [48, 64, 80], [51, 68, 85], [54, 72, 90], [57, 76, 95], [60, 63, 87], [60, 80, 100], [65, 72, 97]]\n",
      "\n",
      "All primitival Pythagorean triples are: \n",
      "((3, 4, 5), (5, 12, 13), (7, 24, 25), (8, 15, 17), (9, 40, 41), (11, 60, 61), (12, 35, 37), (13, 84, 85), (16, 63, 65), (20, 21, 29), (28, 45, 53), (33, 56, 65), (36, 77, 85), (39, 80, 89), (48, 55, 73), (65, 72, 97))\n",
      "16\n"
     ]
    }
   ],
   "source": [
    "elenco = [[a,b,c] for a in range(1,101) for b in range(a,101) for c in range(1,101) if a*a+b*b==c*c]\n",
    "print(\"All Pythagorean triples are: \")\n",
    "print(elenco)\n",
    "print()\n",
    "\n",
    "trip_fin = []\n",
    "for t_1 in range(len(elenco)):\n",
    "    count = 0\n",
    "    for t_2 in range(t_1):\n",
    "        div = elenco[t_1][0]/elenco[t_2][0]\n",
    "        if elenco[t_1][1]/elenco[t_2][1]==div:\n",
    "            count += 1\n",
    "    if count==0:\n",
    "        elenco[t_1] = tuple(elenco[t_1])\n",
    "        trip_fin.append(elenco[t_1])\n",
    "        \n",
    "trip_fin = tuple(trip_fin)\n",
    "print(\"All primitival Pythagorean triples are: \")\n",
    "print(trip_fin)\n",
    "print(len(trip_fin))"
   ]
  },
  {
   "cell_type": "markdown",
   "metadata": {},
   "source": [
    "9\\. Normalization\n",
    "\n",
    "Write a function that takes a tuple of numbers and returns it with the entries normalized to one"
   ]
  },
  {
   "cell_type": "code",
   "execution_count": 7,
   "metadata": {},
   "outputs": [
    {
     "name": "stdout",
     "output_type": "stream",
     "text": [
      "True\n",
      "(1.0, 0.0, 0.0, 0.0, 0.0, 0.0, 0.0)\n"
     ]
    }
   ],
   "source": [
    "import math\n",
    "\n",
    "def norm(tupla):\n",
    "    l = list(tupla)\n",
    "    q = 0\n",
    "    for x in l:\n",
    "        q = q + x*x\n",
    "    q = math.sqrt(q)\n",
    "    for x in range(len(l)):\n",
    "        l[x] = l[x]/q\n",
    "    \n",
    "    norma = 0\n",
    "    for n in l:\n",
    "        norma = norma + n*n\n",
    "    print(not bool(1-norma))\n",
    "    \n",
    "    \n",
    "    tupla = tuple(l)\n",
    "    return tupla\n",
    "\n",
    "vettore = (4,0,0,0,0,0,0)\n",
    "print(norm(vettore))"
   ]
  },
  {
   "cell_type": "code",
   "execution_count": null,
   "metadata": {},
   "outputs": [],
   "source": []
  }
 ],
 "metadata": {
  "kernelspec": {
   "display_name": "Python 3 (ipykernel)",
   "language": "python",
   "name": "python3"
  },
  "language_info": {
   "codemirror_mode": {
    "name": "ipython",
    "version": 3
   },
   "file_extension": ".py",
   "mimetype": "text/x-python",
   "name": "python",
   "nbconvert_exporter": "python",
   "pygments_lexer": "ipython3",
   "version": "3.9.12"
  }
 },
 "nbformat": 4,
 "nbformat_minor": 2
}
