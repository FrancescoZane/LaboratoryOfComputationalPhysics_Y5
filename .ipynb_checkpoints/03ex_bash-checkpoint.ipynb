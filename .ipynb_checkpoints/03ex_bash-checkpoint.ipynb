{
 "cells": [
  {
   "cell_type": "markdown",
   "metadata": {},
   "source": [
    "The following exercises are meant to be solved by gathering the bash commands incrimentally in two scripts, one for ex 1.* the other for ex 2.*"
   ]
  },
  {
   "cell_type": "markdown",
   "metadata": {},
   "source": [
    "## Ex 1\n",
    "1.a Make a new directory called students in your home. Download a csv file with the list of students of this lab from here (use the wget command) and copy that to students. First check whether the file is already there\n",
    "\n",
    "1.b Make two new files, one containing the students belonging to PoD, the other to Physics.\n",
    "\n",
    "1.c For each letter of the alphabet, count the number of students whose surname starts with that letter.\n",
    "\n",
    "1.d Find out which is the letter with most counts.\n",
    "\n",
    "1.e Assume an obvious numbering of the students in the file (first line is 1, second line is 2, etc.), group students \"modulo 18\", i.e. 1,19,37,.. 2,20,38,.. etc. and put each group in a separate file"
   ]
  },
  {
   "cell_type": "markdown",
   "metadata": {},
   "source": [
    "```bash\n",
    "# 1.c\n",
    "for l in {A..Z};\n",
    "do\n",
    "\techo \"$l: \" $(grep -c \"^$l\" LCP_22-23_students.csv);\n",
    "done\n",
    "\n",
    "# 1.d\n",
    "count=0\n",
    "lett=A\n",
    "for l in {A..Z};\n",
    "do\n",
    "         if [ $(grep -c \"^$l\" LCP_22-23_students.csv) -gt $count ]; then\n",
    "                          count=$(grep -c \"^$l\" LCP_22-23_students.csv)\n",
    "                          lett=$l                         \n",
    "        fi;\n",
    "done\n",
    "echo $lett $count\n",
    "\n",
    "# 1.e\n",
    "for k in {0..18};\n",
    "do\n",
    "        for i in $(seq $k 18 $(grep -c \"\" students_PoD.txt));\n",
    "        do\n",
    "                echo $(sed \"${i}q;d\" students_PoD.txt) >> fine.txt;\n",
    "        done\n",
    "        echo \"\" >> fine.txt;\n",
    "done\n",
    "```"
   ]
  },
  {
   "cell_type": "markdown",
   "metadata": {},
   "source": [
    "## Ex 2\n",
    "2.a Make a copy of the file data.csv removing the metadata and the commas between numbers; call it data.txt\n",
    "\n",
    "2.b How many even numbers are there?\n",
    "\n",
    "2.c Distinguish the entries on the basis of sqrt(X^2 + Y^2 + Z^2) is greater or smaller than 100*sqrt(3)/2. Count the entries of each of the two groups\n",
    "\n",
    "2.d Make n copies of data.txt (with n an input parameter of the script), where the i-th copy has all the numbers divided by i (with 1<=i<=n)."
   ]
  },
  {
   "cell_type": "markdown",
   "metadata": {},
   "source": [
    "```bash\n",
    "# 2.a\n",
    "sed -i \"1,4d\" data.csv      # removes the first 4 lines\n",
    "sed -i 's/,/ /g' data.csv   # it works in all the file\n",
    "cp data.csv ./data.txt\n",
    "\n",
    "\n",
    "# 2.b\n",
    "count=0\n",
    "for (( i=1; i<=$(grep -c \"\" data.txt); i++ ));\n",
    "do\n",
    "\tfor num in $(sed \"${i}q;d\" data.txt);\n",
    "\tdo\n",
    "\t\tif [ $(expr $num % 2) -eq 0 ];\n",
    "\t\t\tthen count=$(($count+1));\n",
    "\t\tfi;\n",
    "\tdone;\n",
    "done\n",
    "# fai molta attenzione anche agli spazi, se scrivi per esempio\n",
    "# [$(expr $num % 2) -eq 0] al posto di [ $(expr $num % 2) -eq 0 ]\n",
    "# ti darà errore\n",
    "\n",
    "\n",
    "\n",
    "# 2.c\n",
    "confronto=$( echo \"scale=2; 100*sqrt(3)/2\" |bc)\n",
    "for ((line=1; line<=$(grep -c \"\" data.txt); line++ ));\n",
    "do\n",
    "    sum=0\n",
    "    for num in $(sed \"${line}q;d\" data.txt);\n",
    "\tdo\n",
    "\t\tsum=$(( $sum + $num * $num));\n",
    "\tdone\n",
    "    sqr=$( echo \"scale=2; sqrt($sum)\" | bc)\n",
    "    echo $line \":\" $sqr\n",
    "    if (( $(echo \"$sqr < $confronto\" |bc -l) ));\n",
    "    then\n",
    "        echo $sqr \" è minore\"\n",
    "        echo $line \":\" $sqr >> smaller.txt\n",
    "    else\n",
    "        echo $sqr \" è maggiore\"\n",
    "        echo $line \":\" $sqr >> greater.txt\n",
    "    fi;\n",
    "done\n",
    "\n",
    "\n",
    "\n",
    "# 2.d\n",
    "read -p \"Quante copie di data.txt vuoi fare? \" k\n",
    "for ((r=1; r<=k; r++));\n",
    "do\n",
    "    read -p \"Inserire il nome della copia numero $r: \" nome\n",
    "    cp data.txt ./$nome\n",
    "    for (( i=1; i<=$(grep -c \"\" $nome); i++ ));\n",
    "    do\n",
    "        for num in $(sed \"${i}q;d\" $nome);\n",
    "        do\n",
    "            sed -i \"s/$num/$( echo \"scale=2; $num/$r\" | bc)/g\" $nome\n",
    "        done;\n",
    "    done;\n",
    "done\n",
    "```"
   ]
  }
 ],
 "metadata": {
  "kernelspec": {
   "display_name": "Python 3 (ipykernel)",
   "language": "python",
   "name": "python3"
  },
  "language_info": {
   "codemirror_mode": {
    "name": "ipython",
    "version": 3
   },
   "file_extension": ".py",
   "mimetype": "text/x-python",
   "name": "python",
   "nbconvert_exporter": "python",
   "pygments_lexer": "ipython3",
   "version": "3.9.12"
  }
 },
 "nbformat": 4,
 "nbformat_minor": 1
}
