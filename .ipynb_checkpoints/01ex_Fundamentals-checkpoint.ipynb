{
 "cells": [
  {
   "cell_type": "markdown",
   "metadata": {},
   "source": [
    "# Esercizio 0"
   ]
  },
  {
   "cell_type": "markdown",
   "metadata": {},
   "source": [
    "0\\. Implement a function (whatever you want) and save it to a file (e.g. `function.py`). Import that file and use that function in this notebook.\n"
   ]
  },
  {
   "cell_type": "code",
   "execution_count": null,
   "metadata": {},
   "outputs": [],
   "source": [
    "import function\n",
    "function.comp_num(4,6)\n",
    "function.comp_str(\"Pippo\",\"PlutoTheBest\") "
   ]
  },
  {
   "cell_type": "code",
   "execution_count": null,
   "metadata": {},
   "outputs": [],
   "source": [
    "from function import comp_num\n",
    "comp_num(4,6)\n",
    "#comp_str(\"Pippo\",\"PlutoTheBest\") -> questo darà errore perchè non ho importato la funzione comp_str da function.py"
   ]
  },
  {
   "cell_type": "markdown",
   "metadata": {},
   "source": [
    "# Esercizio 1"
   ]
  },
  {
   "cell_type": "markdown",
   "metadata": {},
   "source": [
    "1\\. Write the following as a list comprehension"
   ]
  },
  {
   "cell_type": "code",
   "execution_count": null,
   "metadata": {},
   "outputs": [],
   "source": [
    "# 1\n",
    "ans1 = []\n",
    "for i in range(3):\n",
    "    for j in range(4):\n",
    "        ans1.append((i, j))\n",
    "print (ans1)\n",
    "\n",
    "# 2\n",
    "ans2 = map(lambda x: x*x, filter(lambda x: x%2 == 0, range(5)))\n",
    "print (list(ans2))\n",
    "\n"
   ]
  },
  {
   "cell_type": "code",
   "execution_count": null,
   "metadata": {},
   "outputs": [],
   "source": [
    "ans1_mio = [(i,j) for i in range(3) for j in range(4)]\n",
    "print(ans1_mio)\n",
    "\n",
    "ans2_mio = [x*x for x in filter(lambda x: x%2 == 0, range(5))]\n",
    "print(ans2_mio)"
   ]
  },
  {
   "cell_type": "markdown",
   "metadata": {},
   "source": [
    "# Esercizio 2"
   ]
  },
  {
   "cell_type": "markdown",
   "metadata": {},
   "source": [
    "2\\. Convert the following function into a pure function with no global variables or side effects"
   ]
  },
  {
   "cell_type": "code",
   "execution_count": 34,
   "metadata": {},
   "outputs": [
    {
     "name": "stdout",
     "output_type": "stream",
     "text": [
      "[1, 2, 3, 0, 1, 2, 3, 4]\n",
      "[1, 2, 3, 0, 1, 2, 3, 4]\n"
     ]
    }
   ],
   "source": [
    "x = 5\n",
    "def f(alist):\n",
    "    for i in range(x):\n",
    "         alist.append(i)\n",
    "    return alist\n",
    "\n",
    "alist = [1,2,3]\n",
    "ans = f(alist)\n",
    "print (ans)\n",
    "print (alist) # alist has been changed!"
   ]
  },
  {
   "cell_type": "code",
   "execution_count": 38,
   "metadata": {},
   "outputs": [
    {
     "name": "stdout",
     "output_type": "stream",
     "text": [
      "[1, 2, 3, 0, 1, 2, 3, 4]\n",
      "[1, 2, 3]\n"
     ]
    }
   ],
   "source": [
    "x = 5\n",
    "def f(alist):\n",
    "    lista = []\n",
    "    lista.extend(alist)\n",
    "    for i in range(x):\n",
    "         lista.append(i)\n",
    "    return lista\n",
    "\n",
    "alist = [1,2,3]\n",
    "ans = f(alist)\n",
    "print (ans)\n",
    "print (alist)"
   ]
  },
  {
   "cell_type": "markdown",
   "metadata": {},
   "source": [
    "# Esercizio 3"
   ]
  },
  {
   "cell_type": "markdown",
   "metadata": {},
   "source": [
    "3\\. Write a `decorator` hello that makes every wrapped function print “Hello!”, i.e. something like:\n",
    "\n",
    "```python\n",
    "@hello\n",
    "def square(x):\n",
    "    return x*x\n",
    "```\n",
    "\n"
   ]
  },
  {
   "cell_type": "code",
   "execution_count": 64,
   "metadata": {},
   "outputs": [
    {
     "name": "stdout",
     "output_type": "stream",
     "text": [
      "Hello!\n",
      "25\n",
      "Hello!\n",
      "10\n"
     ]
    }
   ],
   "source": [
    "# first way\n",
    "\n",
    "def HELLO(function,n):\n",
    "    def abbraccio():\n",
    "        print(\"Hello!\")\n",
    "        print(function(n))\n",
    "    return abbraccio\n",
    "\n",
    "def square(x):\n",
    "    return x*x\n",
    "\n",
    "k = 5\n",
    "\n",
    "ciao = HELLO(square,k)\n",
    "ciao()\n",
    "\n",
    "# second way\n",
    "\n",
    "k = 5\n",
    "\n",
    "def hello(function):\n",
    "    global k\n",
    "    def prima():\n",
    "        print(\"Hello!\")\n",
    "        print(function(k))\n",
    "    return prima\n",
    "\n",
    "\n",
    "@hello\n",
    "def somma(x):\n",
    "    return x+x\n",
    "\n",
    "somma()"
   ]
  },
  {
   "cell_type": "markdown",
   "metadata": {},
   "source": [
    "# Esercizio 4"
   ]
  },
  {
   "cell_type": "markdown",
   "metadata": {},
   "source": [
    "4\\. Write the factorial function so that it a) does and b) does not use recursion."
   ]
  },
  {
   "cell_type": "code",
   "execution_count": 1,
   "metadata": {},
   "outputs": [
    {
     "name": "stdout",
     "output_type": "stream",
     "text": [
      "1\n",
      "2\n",
      "6\n",
      "24\n"
     ]
    }
   ],
   "source": [
    "def factorial(n):\n",
    "    if n==0:\n",
    "        return 1\n",
    "    else:\n",
    "        return n*factorial(n-1)\n",
    "print(factorial(1))\n",
    "print(factorial(2))\n",
    "print(factorial(3))\n",
    "print(factorial(4))"
   ]
  },
  {
   "cell_type": "code",
   "execution_count": 2,
   "metadata": {},
   "outputs": [
    {
     "name": "stdout",
     "output_type": "stream",
     "text": [
      "1\n",
      "2\n",
      "6\n",
      "24\n"
     ]
    }
   ],
   "source": [
    "def factorial_for(n):\n",
    "    tot = 1\n",
    "    for x in range(1,n+1):\n",
    "        tot *= x\n",
    "    return(tot)\n",
    "    \n",
    "print(factorial_for(1))\n",
    "print(factorial_for(2))\n",
    "print(factorial_for(3))\n",
    "print(factorial_for(4))"
   ]
  },
  {
   "cell_type": "code",
   "execution_count": 3,
   "metadata": {},
   "outputs": [
    {
     "name": "stdout",
     "output_type": "stream",
     "text": [
      "450 ns ± 15.1 ns per loop (mean ± std. dev. of 7 runs, 1000000 loops each)\n",
      "246 ns ± 2.8 ns per loop (mean ± std. dev. of 7 runs, 1000000 loops each)\n"
     ]
    }
   ],
   "source": [
    "# check indeed the timing:\n",
    "\n",
    "%timeit factorial(10)\n",
    "%timeit factorial_for(10)\n",
    "\n",
    "# it makes an average"
   ]
  },
  {
   "cell_type": "markdown",
   "metadata": {},
   "source": [
    "# Esercizio 5"
   ]
  },
  {
   "cell_type": "markdown",
   "metadata": {},
   "source": [
    "5\\. Use HOFs (zip in particular) to compute the weight of a circle, a disk and a sphere, assuming different radii and different densities:\n",
    "\n",
    "```python\n",
    "densities = {\"Al\":[0.5,1,2],\"Fe\":[3,4,5],\"Pb\": [15,20,30]}\n",
    "radii = [1,2,3]\n",
    "```\n",
    "\n",
    "where the entries of the dictionary's values are the linear, superficial and volumetric densities of the materials respectively.\n",
    "\n",
    "In particular define a list of three lambda functions using a comprehension that computes the circumference, the area and the volume for a given radius."
   ]
  },
  {
   "cell_type": "code",
   "execution_count": 31,
   "metadata": {},
   "outputs": [
    {
     "name": "stdout",
     "output_type": "stream",
     "text": [
      "Un circonferenza di Al e raggio 1 pesa: 3.141592653589793\n",
      "Un circonferenza di Fe e raggio 1 pesa: 18.84955592153876\n",
      "Un circonferenza di Pb e raggio 1 pesa: 94.24777960769379\n",
      "\n",
      "Un circonferenza di Al e raggio 2 pesa: 12.566370614359172\n",
      "Un circonferenza di Fe e raggio 2 pesa: 50.26548245743669\n",
      "Un circonferenza di Pb e raggio 2 pesa: 251.32741228718345\n",
      "\n",
      "Un circonferenza di Al e raggio 3 pesa: 37.69911184307752\n",
      "Un circonferenza di Fe e raggio 3 pesa: 94.24777960769379\n",
      "Un circonferenza di Pb e raggio 3 pesa: 565.4866776461628\n",
      "\n",
      "Un cerchio di Al e raggio 1 pesa: 1.5707963267948966\n",
      "Un cerchio di Fe e raggio 1 pesa: 9.42477796076938\n",
      "Un cerchio di Pb e raggio 1 pesa: 47.12388980384689\n",
      "\n",
      "Un cerchio di Al e raggio 2 pesa: 12.566370614359172\n",
      "Un cerchio di Fe e raggio 2 pesa: 50.26548245743669\n",
      "Un cerchio di Pb e raggio 2 pesa: 251.32741228718345\n",
      "\n",
      "Un cerchio di Al e raggio 3 pesa: 56.548667764616276\n",
      "Un cerchio di Fe e raggio 3 pesa: 141.3716694115407\n",
      "Un cerchio di Pb e raggio 3 pesa: 848.2300164692441\n",
      "\n",
      "Una sfera di Al e raggio 1 pesa: 2.0943951023931953\n",
      "Una sfera di Fe e raggio 1 pesa: 12.566370614359172\n",
      "Una sfera di Pb e raggio 1 pesa: 62.831853071795855\n",
      "\n",
      "Una sfera di Al e raggio 2 pesa: 33.510321638291124\n",
      "Una sfera di Fe e raggio 2 pesa: 134.0412865531645\n",
      "Una sfera di Pb e raggio 2 pesa: 670.2064327658225\n",
      "\n",
      "Una sfera di Al e raggio 3 pesa: 226.19467105846508\n",
      "Una sfera di Fe e raggio 3 pesa: 565.4866776461627\n",
      "Una sfera di Pb e raggio 3 pesa: 3392.920065876976\n",
      "\n"
     ]
    }
   ],
   "source": [
    "from math import pi\n",
    "\n",
    "densities = {\"Al\":[0.5,1,2],\"Fe\":[3,4,5],\"Pb\": [15,20,30]}\n",
    "radii = [1,2,3]\n",
    "\n",
    "\n",
    "operazioni = [lambda r: 2*pi*r, lambda r: pi*r**2, lambda r: 4/3*pi*r**3]\n",
    "\n",
    "for i,rad in zip(range(3),radii):\n",
    "    for mat in list(densities.keys()):\n",
    "        print(\"Un circonferenza di\", mat, \"e raggio\", rad, \"pesa:\", densities[mat][i]*operazioni[0](rad))\n",
    "    print()\n",
    "    \n",
    "for i,rad in zip(range(3),radii):\n",
    "    for mat in list(densities.keys()):\n",
    "        print(\"Un cerchio di\", mat, \"e raggio\", rad, \"pesa:\", densities[mat][i]*operazioni[1](rad))\n",
    "    print()\n",
    "    \n",
    "for i,rad in zip(range(3),radii):\n",
    "    for mat in list(densities.keys()):\n",
    "        print(\"Una sfera di\", mat, \"e raggio\", rad, \"pesa:\", densities[mat][i]*operazioni[2](rad))\n",
    "    print()\n"
   ]
  },
  {
   "cell_type": "markdown",
   "metadata": {},
   "source": [
    "# Esercizio 6"
   ]
  },
  {
   "cell_type": "markdown",
   "metadata": {},
   "source": [
    "6\\. Edit the class defintion to add an instance attribute of is_hungry = True to the Dog class. Then add a method called eat() which changes the value of is_hungry to False when called. Figure out the best way to feed each dog and then output “My dogs are hungry.” if all are hungry or “My dogs are not hungry.” if all are not hungry. The final output should look like this:\n",
    "\n",
    "`I have 3 dogs. \n",
    "Tom is 6. \n",
    "Fletcher is 7. \n",
    "Larry is 9. \n",
    "And they're all mammals, of course. \n",
    "My dogs are not hungry.\n",
    "`\n",
    "\n",
    "```python\n",
    "# Parent class\n",
    "class Dog:\n",
    "\n",
    "    # Class attribute\n",
    "    species = 'mammal'\n",
    "\n",
    "    # Initializer / Instance attributes\n",
    "    def __init__(self, name, age):\n",
    "        self.name = name\n",
    "        self.age = age\n",
    "\n",
    "    # instance method\n",
    "    def description(self):\n",
    "        return \"{} is {} years old\".format(self.name, self.age)\n",
    "\n",
    "    # instance method\n",
    "    def speak(self, sound):\n",
    "        return \"{} says {}\".format(self.name, sound)\n",
    "\n",
    "# Child class (inherits from Dog class)\n",
    "class RussellTerrier(Dog):\n",
    "    def run(self, speed):\n",
    "        return \"{} runs {}\".format(self.name, speed)\n",
    "\n",
    "# Child class (inherits from Dog class)\n",
    "class Bulldog(Dog):\n",
    "    def run(self, speed):\n",
    "        return \"{} runs {}\".format(self.name, speed)\n",
    "```"
   ]
  },
  {
   "cell_type": "code",
   "execution_count": null,
   "metadata": {},
   "outputs": [],
   "source": []
  },
  {
   "cell_type": "code",
   "execution_count": null,
   "metadata": {},
   "outputs": [],
   "source": []
  }
 ],
 "metadata": {
  "kernelspec": {
   "display_name": "Python 3 (ipykernel)",
   "language": "python",
   "name": "python3"
  },
  "language_info": {
   "codemirror_mode": {
    "name": "ipython",
    "version": 3
   },
   "file_extension": ".py",
   "mimetype": "text/x-python",
   "name": "python",
   "nbconvert_exporter": "python",
   "pygments_lexer": "ipython3",
   "version": "3.9.12"
  }
 },
 "nbformat": 4,
 "nbformat_minor": 2
}
